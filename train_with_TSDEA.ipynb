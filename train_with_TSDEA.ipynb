{
 "cells": [
  {
   "cell_type": "code",
   "execution_count": 1,
   "id": "fc45c5e7-1c9d-48e0-85f6-7f65fe55da63",
   "metadata": {},
   "outputs": [],
   "source": [
    "import os\n",
    "os.environ[\"CUDA_VISIBLE_DEVICES\"]='2' #\"0,1,2,3\"\n",
    "import pandas as pd\n",
    "from araemotion.MultiLabelClassificationModel import EmotionMultilabelClassificationModel\n",
    "%config Completer.use_jedi = False"
   ]
  },
  {
   "cell_type": "markdown",
   "id": "9b3f3a90-4209-4090-923e-de2c969b8a38",
   "metadata": {
    "tags": []
   },
   "source": [
    "#### 6 labels with TSDAE pre-training"
   ]
  },
  {
   "cell_type": "code",
   "execution_count": 2,
   "id": "343bf37c-b92b-42a3-a451-e43d28b4f66f",
   "metadata": {
    "collapsed": true,
    "jupyter": {
     "outputs_hidden": true
    },
    "tags": []
   },
   "outputs": [
    {
     "name": "stdout",
     "output_type": "stream",
     "text": [
      "pre-training an unsupervised TSDAE model...\n"
     ]
    },
    {
     "name": "stderr",
     "output_type": "stream",
     "text": [
      "Some weights of the model checkpoint at UBC-NLP/MARBERT were not used when initializing BertModel: ['cls.predictions.bias', 'cls.seq_relationship.bias', 'cls.predictions.transform.dense.weight', 'cls.predictions.transform.LayerNorm.bias', 'cls.predictions.transform.LayerNorm.weight', 'cls.predictions.transform.dense.bias', 'cls.seq_relationship.weight', 'cls.predictions.decoder.weight']\n",
      "- This IS expected if you are initializing BertModel from the checkpoint of a model trained on another task or with another architecture (e.g. initializing a BertForSequenceClassification model from a BertForPreTraining model).\n",
      "- This IS NOT expected if you are initializing BertModel from the checkpoint of a model that you expect to be exactly identical (initializing a BertForSequenceClassification model from a BertForSequenceClassification model).\n",
      "When tie_encoder_decoder=True, the decoder_name_or_path will be invalid.\n",
      "Some weights of the model checkpoint at UBC-NLP/MARBERT were not used when initializing BertLMHeadModel: ['cls.seq_relationship.weight', 'cls.seq_relationship.bias']\n",
      "- This IS expected if you are initializing BertLMHeadModel from the checkpoint of a model trained on another task or with another architecture (e.g. initializing a BertForSequenceClassification model from a BertForPreTraining model).\n",
      "- This IS NOT expected if you are initializing BertLMHeadModel from the checkpoint of a model that you expect to be exactly identical (initializing a BertForSequenceClassification model from a BertForSequenceClassification model).\n",
      "Some weights of BertLMHeadModel were not initialized from the model checkpoint at UBC-NLP/MARBERT and are newly initialized: ['bert.encoder.layer.7.crossattention.self.query.weight', 'bert.encoder.layer.2.crossattention.self.query.bias', 'bert.encoder.layer.9.crossattention.self.value.weight', 'bert.encoder.layer.0.crossattention.output.LayerNorm.bias', 'bert.encoder.layer.0.crossattention.self.query.bias', 'bert.encoder.layer.4.crossattention.self.key.weight', 'bert.encoder.layer.10.crossattention.output.LayerNorm.bias', 'bert.encoder.layer.11.crossattention.self.value.bias', 'bert.encoder.layer.4.crossattention.self.key.bias', 'bert.encoder.layer.6.crossattention.self.value.weight', 'bert.encoder.layer.3.crossattention.self.value.weight', 'bert.encoder.layer.2.crossattention.self.query.weight', 'bert.encoder.layer.7.crossattention.output.dense.bias', 'bert.encoder.layer.1.crossattention.output.dense.weight', 'bert.encoder.layer.11.crossattention.self.key.bias', 'bert.encoder.layer.2.crossattention.output.dense.bias', 'bert.encoder.layer.5.crossattention.output.dense.bias', 'bert.encoder.layer.4.crossattention.self.value.bias', 'bert.encoder.layer.1.crossattention.self.query.bias', 'bert.encoder.layer.0.crossattention.output.dense.weight', 'bert.encoder.layer.4.crossattention.output.LayerNorm.bias', 'bert.encoder.layer.5.crossattention.self.query.bias', 'bert.encoder.layer.2.crossattention.self.key.bias', 'bert.encoder.layer.4.crossattention.self.query.weight', 'bert.encoder.layer.7.crossattention.output.LayerNorm.weight', 'bert.encoder.layer.11.crossattention.output.LayerNorm.bias', 'bert.encoder.layer.2.crossattention.self.value.weight', 'bert.encoder.layer.2.crossattention.output.LayerNorm.bias', 'bert.encoder.layer.7.crossattention.self.value.bias', 'bert.encoder.layer.8.crossattention.output.LayerNorm.bias', 'bert.encoder.layer.9.crossattention.output.dense.weight', 'bert.encoder.layer.5.crossattention.self.key.bias', 'bert.encoder.layer.9.crossattention.self.key.weight', 'bert.encoder.layer.8.crossattention.output.LayerNorm.weight', 'bert.encoder.layer.5.crossattention.output.dense.weight', 'bert.encoder.layer.11.crossattention.self.query.bias', 'bert.encoder.layer.10.crossattention.output.dense.weight', 'bert.encoder.layer.9.crossattention.self.key.bias', 'bert.encoder.layer.7.crossattention.self.query.bias', 'bert.encoder.layer.8.crossattention.output.dense.weight', 'bert.encoder.layer.1.crossattention.self.key.weight', 'bert.encoder.layer.9.crossattention.output.LayerNorm.bias', 'bert.encoder.layer.3.crossattention.self.key.bias', 'bert.encoder.layer.8.crossattention.output.dense.bias', 'bert.encoder.layer.1.crossattention.self.value.bias', 'bert.encoder.layer.6.crossattention.self.key.weight', 'bert.encoder.layer.7.crossattention.self.key.weight', 'bert.encoder.layer.8.crossattention.self.query.bias', 'bert.encoder.layer.8.crossattention.self.key.weight', 'bert.encoder.layer.3.crossattention.self.key.weight', 'bert.encoder.layer.4.crossattention.output.LayerNorm.weight', 'bert.encoder.layer.10.crossattention.self.key.bias', 'bert.encoder.layer.2.crossattention.output.dense.weight', 'bert.encoder.layer.7.crossattention.output.dense.weight', 'bert.encoder.layer.5.crossattention.output.LayerNorm.weight', 'bert.encoder.layer.11.crossattention.output.LayerNorm.weight', 'bert.encoder.layer.6.crossattention.output.dense.weight', 'bert.encoder.layer.9.crossattention.self.value.bias', 'bert.encoder.layer.2.crossattention.self.value.bias', 'bert.encoder.layer.6.crossattention.output.dense.bias', 'bert.encoder.layer.6.crossattention.output.LayerNorm.bias', 'bert.encoder.layer.3.crossattention.self.value.bias', 'bert.encoder.layer.4.crossattention.output.dense.weight', 'bert.encoder.layer.8.crossattention.self.query.weight', 'bert.encoder.layer.10.crossattention.output.LayerNorm.weight', 'bert.encoder.layer.1.crossattention.self.value.weight', 'bert.encoder.layer.7.crossattention.self.key.bias', 'bert.encoder.layer.2.crossattention.output.LayerNorm.weight', 'bert.encoder.layer.3.crossattention.self.query.bias', 'bert.encoder.layer.9.crossattention.output.LayerNorm.weight', 'bert.encoder.layer.4.crossattention.self.value.weight', 'bert.encoder.layer.1.crossattention.output.LayerNorm.weight', 'bert.encoder.layer.8.crossattention.self.value.weight', 'bert.encoder.layer.11.crossattention.self.value.weight', 'bert.encoder.layer.0.crossattention.self.value.weight', 'bert.encoder.layer.5.crossattention.output.LayerNorm.bias', 'bert.encoder.layer.3.crossattention.output.dense.weight', 'bert.encoder.layer.4.crossattention.self.query.bias', 'bert.encoder.layer.11.crossattention.self.query.weight', 'bert.encoder.layer.6.crossattention.self.query.weight', 'bert.encoder.layer.10.crossattention.output.dense.bias', 'bert.encoder.layer.2.crossattention.self.key.weight', 'bert.encoder.layer.5.crossattention.self.key.weight', 'bert.encoder.layer.6.crossattention.self.value.bias', 'bert.encoder.layer.8.crossattention.self.value.bias', 'bert.encoder.layer.11.crossattention.self.key.weight', 'bert.encoder.layer.9.crossattention.output.dense.bias', 'bert.encoder.layer.10.crossattention.self.query.weight', 'bert.encoder.layer.10.crossattention.self.value.bias', 'bert.encoder.layer.10.crossattention.self.value.weight', 'bert.encoder.layer.5.crossattention.self.query.weight', 'bert.encoder.layer.0.crossattention.output.LayerNorm.weight', 'bert.encoder.layer.4.crossattention.output.dense.bias', 'bert.encoder.layer.7.crossattention.output.LayerNorm.bias', 'bert.encoder.layer.0.crossattention.self.value.bias', 'bert.encoder.layer.0.crossattention.self.key.bias', 'bert.encoder.layer.0.crossattention.self.query.weight', 'bert.encoder.layer.6.crossattention.self.query.bias', 'bert.encoder.layer.5.crossattention.self.value.weight', 'bert.encoder.layer.1.crossattention.self.query.weight', 'bert.encoder.layer.1.crossattention.output.dense.bias', 'bert.encoder.layer.9.crossattention.self.query.weight', 'bert.encoder.layer.7.crossattention.self.value.weight', 'bert.encoder.layer.6.crossattention.self.key.bias', 'bert.encoder.layer.1.crossattention.self.key.bias', 'bert.encoder.layer.0.crossattention.output.dense.bias', 'bert.encoder.layer.11.crossattention.output.dense.weight', 'bert.encoder.layer.6.crossattention.output.LayerNorm.weight', 'bert.encoder.layer.11.crossattention.output.dense.bias', 'bert.encoder.layer.1.crossattention.output.LayerNorm.bias', 'bert.encoder.layer.3.crossattention.output.LayerNorm.bias', 'bert.encoder.layer.3.crossattention.self.query.weight', 'bert.encoder.layer.3.crossattention.output.dense.bias', 'bert.encoder.layer.10.crossattention.self.query.bias', 'bert.encoder.layer.0.crossattention.self.key.weight', 'bert.encoder.layer.5.crossattention.self.value.bias', 'bert.encoder.layer.8.crossattention.self.key.bias', 'bert.encoder.layer.3.crossattention.output.LayerNorm.weight', 'bert.encoder.layer.9.crossattention.self.query.bias', 'bert.encoder.layer.10.crossattention.self.key.weight']\n",
      "You should probably TRAIN this model on a down-stream task to be able to use it for predictions and inference.\n",
      "The following encoder weights were not tied to the decoder ['bert/pooler']\n"
     ]
    },
    {
     "data": {
      "application/vnd.jupyter.widget-view+json": {
       "model_id": "c62164e6cd324b2098817b6554c343d6",
       "version_major": 2,
       "version_minor": 0
      },
      "text/plain": [
       "Epoch:   0%|          | 0/3 [00:00<?, ?it/s]"
      ]
     },
     "metadata": {},
     "output_type": "display_data"
    },
    {
     "data": {
      "application/vnd.jupyter.widget-view+json": {
       "model_id": "1e42356e50824eb39aa656520895ba57",
       "version_major": 2,
       "version_minor": 0
      },
      "text/plain": [
       "Iteration:   0%|          | 0/183 [00:00<?, ?it/s]"
      ]
     },
     "metadata": {},
     "output_type": "display_data"
    },
    {
     "data": {
      "application/vnd.jupyter.widget-view+json": {
       "model_id": "eeb7ba175df64af7ae4386be841ba5ab",
       "version_major": 2,
       "version_minor": 0
      },
      "text/plain": [
       "Iteration:   0%|          | 0/183 [00:00<?, ?it/s]"
      ]
     },
     "metadata": {},
     "output_type": "display_data"
    },
    {
     "data": {
      "application/vnd.jupyter.widget-view+json": {
       "model_id": "77d6f73111a7421e9f66a4d42231b894",
       "version_major": 2,
       "version_minor": 0
      },
      "text/plain": [
       "Iteration:   0%|          | 0/183 [00:00<?, ?it/s]"
      ]
     },
     "metadata": {},
     "output_type": "display_data"
    },
    {
     "name": "stdout",
     "output_type": "stream",
     "text": [
      "finished unsupervised training, starting supervised training from multilabel_tsdae/TSDAE/0_Transformer...\n",
      "loading model from multilabel_tsdae/TSDAE/0_Transformer...\n"
     ]
    },
    {
     "name": "stderr",
     "output_type": "stream",
     "text": [
      "Some weights of BertForMultiLabelSequenceClassification were not initialized from the model checkpoint at multilabel_tsdae/TSDAE/0_Transformer and are newly initialized: ['classifier.bias', 'classifier.weight']\n",
      "You should probably TRAIN this model on a down-stream task to be able to use it for predictions and inference.\n"
     ]
    },
    {
     "name": "stdout",
     "output_type": "stream",
     "text": [
      "Calculating weights...\n",
      "           weight\n",
      "anger    2.421198\n",
      "disgust  5.809589\n",
      "fear     6.419403\n",
      "joy      2.518047\n",
      "sadness  1.915543\n",
      "neutral  2.826790\n"
     ]
    },
    {
     "data": {
      "application/vnd.jupyter.widget-view+json": {
       "model_id": "828618f766024afca6afe25148e756a0",
       "version_major": 2,
       "version_minor": 0
      },
      "text/plain": [
       "  0%|          | 0/4971 [00:00<?, ?it/s]"
      ]
     },
     "metadata": {},
     "output_type": "display_data"
    },
    {
     "data": {
      "application/vnd.jupyter.widget-view+json": {
       "model_id": "1b7f0db4e5204cd59f92a1177974a8e8",
       "version_major": 2,
       "version_minor": 0
      },
      "text/plain": [
       "Epoch:   0%|          | 0/6 [00:00<?, ?it/s]"
      ]
     },
     "metadata": {},
     "output_type": "display_data"
    },
    {
     "data": {
      "application/vnd.jupyter.widget-view+json": {
       "model_id": "d017d693ee724455aefb8a97769eb6a4",
       "version_major": 2,
       "version_minor": 0
      },
      "text/plain": [
       "Running Epoch 0 of 6:   0%|          | 0/156 [00:00<?, ?it/s]"
      ]
     },
     "metadata": {},
     "output_type": "display_data"
    },
    {
     "data": {
      "application/vnd.jupyter.widget-view+json": {
       "model_id": "0ea3b532300543069bf5d4ee9e1150b0",
       "version_major": 2,
       "version_minor": 0
      },
      "text/plain": [
       "  0%|          | 0/877 [00:00<?, ?it/s]"
      ]
     },
     "metadata": {},
     "output_type": "display_data"
    },
    {
     "name": "stdout",
     "output_type": "stream",
     "text": [
      "              precision    recall  f1-score   support\n",
      "\n",
      "       anger       0.00      0.00      0.00       270\n",
      "     disgust       0.00      0.00      0.00       125\n",
      "        fear       0.00      0.00      0.00       110\n",
      "         joy       1.00      0.07      0.13       252\n",
      "     sadness       0.82      0.34      0.48       304\n",
      "     neutral       1.00      0.20      0.33       226\n",
      "\n",
      "   micro avg       0.88      0.13      0.22      1287\n",
      "   macro avg       0.47      0.10      0.16      1287\n",
      "weighted avg       0.57      0.13      0.20      1287\n",
      " samples avg       0.19      0.15      0.16      1287\n",
      "\n"
     ]
    },
    {
     "name": "stderr",
     "output_type": "stream",
     "text": [
      "/opt/anaconda3/envs/yotam-inf/lib/python3.8/site-packages/sklearn/metrics/_classification.py:1248: UndefinedMetricWarning: Precision is ill-defined and being set to 0.0 in labels with no predicted samples. Use `zero_division` parameter to control this behavior.\n",
      "  _warn_prf(average, modifier, msg_start, len(result))\n"
     ]
    },
    {
     "data": {
      "application/vnd.jupyter.widget-view+json": {
       "model_id": "9c50b45043d540188ff409cbc06714c2",
       "version_major": 2,
       "version_minor": 0
      },
      "text/plain": [
       "  0%|          | 0/877 [00:00<?, ?it/s]"
      ]
     },
     "metadata": {},
     "output_type": "display_data"
    },
    {
     "name": "stdout",
     "output_type": "stream",
     "text": [
      "              precision    recall  f1-score   support\n",
      "\n",
      "       anger       0.81      0.62      0.70       270\n",
      "     disgust       0.00      0.00      0.00       125\n",
      "        fear       0.00      0.00      0.00       110\n",
      "         joy       0.81      0.80      0.80       252\n",
      "     sadness       0.65      0.62      0.63       304\n",
      "     neutral       0.94      0.76      0.84       226\n",
      "\n",
      "   micro avg       0.79      0.57      0.66      1287\n",
      "   macro avg       0.54      0.47      0.50      1287\n",
      "weighted avg       0.65      0.57      0.60      1287\n",
      " samples avg       0.69      0.63      0.65      1287\n",
      "\n"
     ]
    },
    {
     "name": "stderr",
     "output_type": "stream",
     "text": [
      "/opt/anaconda3/envs/yotam-inf/lib/python3.8/site-packages/sklearn/metrics/_classification.py:1248: UndefinedMetricWarning: Precision is ill-defined and being set to 0.0 in labels with no predicted samples. Use `zero_division` parameter to control this behavior.\n",
      "  _warn_prf(average, modifier, msg_start, len(result))\n"
     ]
    },
    {
     "data": {
      "application/vnd.jupyter.widget-view+json": {
       "model_id": "b24c2ec430c14dc29b90f9b7d6ee0561",
       "version_major": 2,
       "version_minor": 0
      },
      "text/plain": [
       "Running Epoch 1 of 6:   0%|          | 0/156 [00:00<?, ?it/s]"
      ]
     },
     "metadata": {},
     "output_type": "display_data"
    },
    {
     "data": {
      "application/vnd.jupyter.widget-view+json": {
       "model_id": "94c21c419140435baa291f6e8664bbfc",
       "version_major": 2,
       "version_minor": 0
      },
      "text/plain": [
       "  0%|          | 0/877 [00:00<?, ?it/s]"
      ]
     },
     "metadata": {},
     "output_type": "display_data"
    },
    {
     "name": "stdout",
     "output_type": "stream",
     "text": [
      "              precision    recall  f1-score   support\n",
      "\n",
      "       anger       0.75      0.82      0.78       270\n",
      "     disgust       0.68      0.21      0.32       125\n",
      "        fear       0.00      0.00      0.00       110\n",
      "         joy       0.91      0.73      0.81       252\n",
      "     sadness       0.70      0.79      0.74       304\n",
      "     neutral       0.92      0.80      0.86       226\n",
      "\n",
      "   micro avg       0.79      0.66      0.72      1287\n",
      "   macro avg       0.66      0.56      0.59      1287\n",
      "weighted avg       0.73      0.66      0.68      1287\n",
      " samples avg       0.77      0.72      0.73      1287\n",
      "\n"
     ]
    },
    {
     "name": "stderr",
     "output_type": "stream",
     "text": [
      "/opt/anaconda3/envs/yotam-inf/lib/python3.8/site-packages/sklearn/metrics/_classification.py:1248: UndefinedMetricWarning: Precision is ill-defined and being set to 0.0 in labels with no predicted samples. Use `zero_division` parameter to control this behavior.\n",
      "  _warn_prf(average, modifier, msg_start, len(result))\n"
     ]
    },
    {
     "data": {
      "application/vnd.jupyter.widget-view+json": {
       "model_id": "f09b5f38e9fe4d9d9eee97c22b4102f7",
       "version_major": 2,
       "version_minor": 0
      },
      "text/plain": [
       "  0%|          | 0/877 [00:00<?, ?it/s]"
      ]
     },
     "metadata": {},
     "output_type": "display_data"
    },
    {
     "name": "stdout",
     "output_type": "stream",
     "text": [
      "              precision    recall  f1-score   support\n",
      "\n",
      "       anger       0.87      0.71      0.78       270\n",
      "     disgust       0.63      0.37      0.46       125\n",
      "        fear       0.00      0.00      0.00       110\n",
      "         joy       0.87      0.80      0.83       252\n",
      "     sadness       0.71      0.79      0.75       304\n",
      "     neutral       0.95      0.82      0.88       226\n",
      "\n",
      "   micro avg       0.82      0.67      0.74      1287\n",
      "   macro avg       0.67      0.58      0.62      1287\n",
      "weighted avg       0.75      0.67      0.70      1287\n",
      " samples avg       0.80      0.73      0.75      1287\n",
      "\n"
     ]
    },
    {
     "name": "stderr",
     "output_type": "stream",
     "text": [
      "/opt/anaconda3/envs/yotam-inf/lib/python3.8/site-packages/sklearn/metrics/_classification.py:1248: UndefinedMetricWarning: Precision is ill-defined and being set to 0.0 in labels with no predicted samples. Use `zero_division` parameter to control this behavior.\n",
      "  _warn_prf(average, modifier, msg_start, len(result))\n"
     ]
    },
    {
     "data": {
      "application/vnd.jupyter.widget-view+json": {
       "model_id": "963807963951436196d611d8a47ba3f9",
       "version_major": 2,
       "version_minor": 0
      },
      "text/plain": [
       "  0%|          | 0/877 [00:00<?, ?it/s]"
      ]
     },
     "metadata": {},
     "output_type": "display_data"
    },
    {
     "name": "stdout",
     "output_type": "stream",
     "text": [
      "              precision    recall  f1-score   support\n",
      "\n",
      "       anger       0.87      0.75      0.80       270\n",
      "     disgust       0.61      0.38      0.47       125\n",
      "        fear       0.00      0.00      0.00       110\n",
      "         joy       0.89      0.77      0.83       252\n",
      "     sadness       0.69      0.80      0.74       304\n",
      "     neutral       0.94      0.83      0.88       226\n",
      "\n",
      "   micro avg       0.81      0.68      0.74      1287\n",
      "   macro avg       0.67      0.59      0.62      1287\n",
      "weighted avg       0.74      0.68      0.71      1287\n",
      " samples avg       0.80      0.74      0.75      1287\n",
      "\n"
     ]
    },
    {
     "name": "stderr",
     "output_type": "stream",
     "text": [
      "/opt/anaconda3/envs/yotam-inf/lib/python3.8/site-packages/sklearn/metrics/_classification.py:1248: UndefinedMetricWarning: Precision is ill-defined and being set to 0.0 in labels with no predicted samples. Use `zero_division` parameter to control this behavior.\n",
      "  _warn_prf(average, modifier, msg_start, len(result))\n"
     ]
    },
    {
     "data": {
      "application/vnd.jupyter.widget-view+json": {
       "model_id": "cba7a25691884b78b23dfd8e65cc9bf1",
       "version_major": 2,
       "version_minor": 0
      },
      "text/plain": [
       "Running Epoch 2 of 6:   0%|          | 0/156 [00:00<?, ?it/s]"
      ]
     },
     "metadata": {},
     "output_type": "display_data"
    },
    {
     "data": {
      "application/vnd.jupyter.widget-view+json": {
       "model_id": "402085df86c04219ac68c890ed12bde6",
       "version_major": 2,
       "version_minor": 0
      },
      "text/plain": [
       "  0%|          | 0/877 [00:00<?, ?it/s]"
      ]
     },
     "metadata": {},
     "output_type": "display_data"
    },
    {
     "name": "stdout",
     "output_type": "stream",
     "text": [
      "              precision    recall  f1-score   support\n",
      "\n",
      "       anger       0.86      0.77      0.81       270\n",
      "     disgust       0.61      0.47      0.53       125\n",
      "        fear       0.97      0.33      0.49       110\n",
      "         joy       0.90      0.76      0.82       252\n",
      "     sadness       0.73      0.79      0.76       304\n",
      "     neutral       0.91      0.86      0.88       226\n",
      "\n",
      "   micro avg       0.82      0.72      0.77      1287\n",
      "   macro avg       0.83      0.66      0.72      1287\n",
      "weighted avg       0.83      0.72      0.76      1287\n",
      " samples avg       0.82      0.78      0.78      1287\n",
      "\n"
     ]
    },
    {
     "data": {
      "application/vnd.jupyter.widget-view+json": {
       "model_id": "f5dfe4395a41460ca2ce7fcd591abade",
       "version_major": 2,
       "version_minor": 0
      },
      "text/plain": [
       "  0%|          | 0/877 [00:00<?, ?it/s]"
      ]
     },
     "metadata": {},
     "output_type": "display_data"
    },
    {
     "name": "stdout",
     "output_type": "stream",
     "text": [
      "              precision    recall  f1-score   support\n",
      "\n",
      "       anger       0.83      0.79      0.81       270\n",
      "     disgust       0.55      0.54      0.55       125\n",
      "        fear       0.92      0.42      0.57       110\n",
      "         joy       0.90      0.77      0.83       252\n",
      "     sadness       0.76      0.78      0.77       304\n",
      "     neutral       0.92      0.86      0.89       226\n",
      "\n",
      "   micro avg       0.81      0.74      0.77      1287\n",
      "   macro avg       0.81      0.69      0.74      1287\n",
      "weighted avg       0.82      0.74      0.77      1287\n",
      " samples avg       0.82      0.79      0.79      1287\n",
      "\n"
     ]
    },
    {
     "data": {
      "application/vnd.jupyter.widget-view+json": {
       "model_id": "2aad0b28f55843eebaa28e19b649bc11",
       "version_major": 2,
       "version_minor": 0
      },
      "text/plain": [
       "Running Epoch 3 of 6:   0%|          | 0/156 [00:00<?, ?it/s]"
      ]
     },
     "metadata": {},
     "output_type": "display_data"
    },
    {
     "data": {
      "application/vnd.jupyter.widget-view+json": {
       "model_id": "c28ec6d1d40a4015b77ca3937af82faf",
       "version_major": 2,
       "version_minor": 0
      },
      "text/plain": [
       "  0%|          | 0/877 [00:00<?, ?it/s]"
      ]
     },
     "metadata": {},
     "output_type": "display_data"
    },
    {
     "name": "stdout",
     "output_type": "stream",
     "text": [
      "              precision    recall  f1-score   support\n",
      "\n",
      "       anger       0.87      0.74      0.80       270\n",
      "     disgust       0.59      0.48      0.53       125\n",
      "        fear       0.90      0.50      0.64       110\n",
      "         joy       0.89      0.79      0.84       252\n",
      "     sadness       0.75      0.77      0.76       304\n",
      "     neutral       0.91      0.86      0.89       226\n",
      "\n",
      "   micro avg       0.83      0.73      0.78      1287\n",
      "   macro avg       0.82      0.69      0.74      1287\n",
      "weighted avg       0.83      0.73      0.77      1287\n",
      " samples avg       0.82      0.79      0.79      1287\n",
      "\n"
     ]
    },
    {
     "data": {
      "application/vnd.jupyter.widget-view+json": {
       "model_id": "f93a3efceb3b49a5b27d431c63822615",
       "version_major": 2,
       "version_minor": 0
      },
      "text/plain": [
       "  0%|          | 0/877 [00:00<?, ?it/s]"
      ]
     },
     "metadata": {},
     "output_type": "display_data"
    },
    {
     "name": "stdout",
     "output_type": "stream",
     "text": [
      "              precision    recall  f1-score   support\n",
      "\n",
      "       anger       0.87      0.72      0.79       270\n",
      "     disgust       0.62      0.45      0.52       125\n",
      "        fear       0.87      0.62      0.72       110\n",
      "         joy       0.89      0.79      0.83       252\n",
      "     sadness       0.74      0.80      0.77       304\n",
      "     neutral       0.92      0.87      0.89       226\n",
      "\n",
      "   micro avg       0.83      0.74      0.78      1287\n",
      "   macro avg       0.82      0.71      0.75      1287\n",
      "weighted avg       0.83      0.74      0.78      1287\n",
      " samples avg       0.83      0.80      0.80      1287\n",
      "\n"
     ]
    },
    {
     "data": {
      "application/vnd.jupyter.widget-view+json": {
       "model_id": "4d99e3fd45404a839454348e33a1442d",
       "version_major": 2,
       "version_minor": 0
      },
      "text/plain": [
       "  0%|          | 0/877 [00:00<?, ?it/s]"
      ]
     },
     "metadata": {},
     "output_type": "display_data"
    },
    {
     "name": "stdout",
     "output_type": "stream",
     "text": [
      "              precision    recall  f1-score   support\n",
      "\n",
      "       anger       0.88      0.70      0.78       270\n",
      "     disgust       0.59      0.43      0.50       125\n",
      "        fear       0.89      0.61      0.72       110\n",
      "         joy       0.87      0.79      0.83       252\n",
      "     sadness       0.77      0.76      0.76       304\n",
      "     neutral       0.87      0.88      0.88       226\n",
      "\n",
      "   micro avg       0.83      0.73      0.78      1287\n",
      "   macro avg       0.81      0.70      0.75      1287\n",
      "weighted avg       0.82      0.73      0.77      1287\n",
      " samples avg       0.83      0.79      0.79      1287\n",
      "\n"
     ]
    },
    {
     "data": {
      "application/vnd.jupyter.widget-view+json": {
       "model_id": "dc9686ded83f4a0eb4e3a1043361b8e9",
       "version_major": 2,
       "version_minor": 0
      },
      "text/plain": [
       "Running Epoch 4 of 6:   0%|          | 0/156 [00:00<?, ?it/s]"
      ]
     },
     "metadata": {},
     "output_type": "display_data"
    },
    {
     "data": {
      "application/vnd.jupyter.widget-view+json": {
       "model_id": "34eefb9831814f25a9d37ddebb1c25e7",
       "version_major": 2,
       "version_minor": 0
      },
      "text/plain": [
       "  0%|          | 0/877 [00:00<?, ?it/s]"
      ]
     },
     "metadata": {},
     "output_type": "display_data"
    },
    {
     "name": "stdout",
     "output_type": "stream",
     "text": [
      "              precision    recall  f1-score   support\n",
      "\n",
      "       anger       0.85      0.77      0.81       270\n",
      "     disgust       0.57      0.50      0.53       125\n",
      "        fear       0.86      0.67      0.76       110\n",
      "         joy       0.87      0.81      0.84       252\n",
      "     sadness       0.75      0.76      0.76       304\n",
      "     neutral       0.93      0.86      0.89       226\n",
      "\n",
      "   micro avg       0.82      0.76      0.79      1287\n",
      "   macro avg       0.81      0.73      0.76      1287\n",
      "weighted avg       0.82      0.76      0.79      1287\n",
      " samples avg       0.84      0.81      0.81      1287\n",
      "\n"
     ]
    },
    {
     "data": {
      "application/vnd.jupyter.widget-view+json": {
       "model_id": "26f7cb8cd4934aaa809b355efcd44200",
       "version_major": 2,
       "version_minor": 0
      },
      "text/plain": [
       "  0%|          | 0/877 [00:00<?, ?it/s]"
      ]
     },
     "metadata": {},
     "output_type": "display_data"
    },
    {
     "name": "stdout",
     "output_type": "stream",
     "text": [
      "              precision    recall  f1-score   support\n",
      "\n",
      "       anger       0.85      0.79      0.82       270\n",
      "     disgust       0.55      0.53      0.54       125\n",
      "        fear       0.87      0.67      0.76       110\n",
      "         joy       0.88      0.79      0.84       252\n",
      "     sadness       0.74      0.79      0.77       304\n",
      "     neutral       0.92      0.86      0.89       226\n",
      "\n",
      "   micro avg       0.81      0.77      0.79      1287\n",
      "   macro avg       0.80      0.74      0.77      1287\n",
      "weighted avg       0.82      0.77      0.79      1287\n",
      " samples avg       0.84      0.82      0.81      1287\n",
      "\n"
     ]
    },
    {
     "data": {
      "application/vnd.jupyter.widget-view+json": {
       "model_id": "77e324b8d46f43018a3324a8d67d4bfe",
       "version_major": 2,
       "version_minor": 0
      },
      "text/plain": [
       "Running Epoch 5 of 6:   0%|          | 0/156 [00:00<?, ?it/s]"
      ]
     },
     "metadata": {},
     "output_type": "display_data"
    },
    {
     "data": {
      "application/vnd.jupyter.widget-view+json": {
       "model_id": "067aaf868fef47e29583add37a40d2e8",
       "version_major": 2,
       "version_minor": 0
      },
      "text/plain": [
       "  0%|          | 0/877 [00:00<?, ?it/s]"
      ]
     },
     "metadata": {},
     "output_type": "display_data"
    },
    {
     "name": "stdout",
     "output_type": "stream",
     "text": [
      "              precision    recall  f1-score   support\n",
      "\n",
      "       anger       0.86      0.74      0.79       270\n",
      "     disgust       0.56      0.52      0.54       125\n",
      "        fear       0.86      0.65      0.74       110\n",
      "         joy       0.87      0.79      0.83       252\n",
      "     sadness       0.78      0.76      0.77       304\n",
      "     neutral       0.91      0.88      0.89       226\n",
      "\n",
      "   micro avg       0.82      0.75      0.78      1287\n",
      "   macro avg       0.81      0.72      0.76      1287\n",
      "weighted avg       0.82      0.75      0.78      1287\n",
      " samples avg       0.83      0.81      0.80      1287\n",
      "\n"
     ]
    },
    {
     "data": {
      "application/vnd.jupyter.widget-view+json": {
       "model_id": "597adeeb26f84be9a8d22939d028b6ab",
       "version_major": 2,
       "version_minor": 0
      },
      "text/plain": [
       "  0%|          | 0/877 [00:00<?, ?it/s]"
      ]
     },
     "metadata": {},
     "output_type": "display_data"
    },
    {
     "name": "stdout",
     "output_type": "stream",
     "text": [
      "              precision    recall  f1-score   support\n",
      "\n",
      "       anger       0.86      0.75      0.80       270\n",
      "     disgust       0.55      0.53      0.54       125\n",
      "        fear       0.87      0.66      0.75       110\n",
      "         joy       0.87      0.81      0.84       252\n",
      "     sadness       0.75      0.80      0.77       304\n",
      "     neutral       0.92      0.86      0.89       226\n",
      "\n",
      "   micro avg       0.81      0.76      0.79      1287\n",
      "   macro avg       0.80      0.73      0.77      1287\n",
      "weighted avg       0.82      0.76      0.79      1287\n",
      " samples avg       0.84      0.82      0.81      1287\n",
      "\n"
     ]
    },
    {
     "data": {
      "application/vnd.jupyter.widget-view+json": {
       "model_id": "ea17dbad31a74716bb046af98635ff1d",
       "version_major": 2,
       "version_minor": 0
      },
      "text/plain": [
       "  0%|          | 0/877 [00:00<?, ?it/s]"
      ]
     },
     "metadata": {},
     "output_type": "display_data"
    },
    {
     "name": "stdout",
     "output_type": "stream",
     "text": [
      "              precision    recall  f1-score   support\n",
      "\n",
      "       anger       0.86      0.75      0.80       270\n",
      "     disgust       0.55      0.53      0.54       125\n",
      "        fear       0.87      0.66      0.75       110\n",
      "         joy       0.87      0.81      0.84       252\n",
      "     sadness       0.75      0.80      0.77       304\n",
      "     neutral       0.92      0.86      0.89       226\n",
      "\n",
      "   micro avg       0.81      0.76      0.79      1287\n",
      "   macro avg       0.80      0.73      0.77      1287\n",
      "weighted avg       0.82      0.76      0.79      1287\n",
      " samples avg       0.84      0.82      0.81      1287\n",
      "\n"
     ]
    }
   ],
   "source": [
    "train_6_labels = pd.read_csv(\"datasets/train_6_labels.csv\")\n",
    "test_6_labels = pd.read_csv(\"datasets/test_6_labels.csv\")\n",
    "labels = ['anger', 'disgust', 'fear', 'joy', 'sadness', 'neutral']\n",
    "\n",
    "model = EmotionMultilabelClassificationModel(name_or_path=\"UBC-NLP/MARBERT\",emotion_list=labels)\n",
    "model.train(train_6_labels,test_6_labels,num_epochs=6,TSDAE_pretrainig=True,save_model_dir=\"multilabel_tsdae_6\")"
   ]
  },
  {
   "cell_type": "code",
   "execution_count": 3,
   "id": "5cb7fd04-353e-408e-998f-277d08158fcb",
   "metadata": {
    "tags": []
   },
   "outputs": [
    {
     "data": {
      "application/vnd.jupyter.widget-view+json": {
       "model_id": "5a7294c641344b37afdfb06eee8eae16",
       "version_major": 2,
       "version_minor": 0
      },
      "text/plain": [
       "  0%|          | 0/877 [00:00<?, ?it/s]"
      ]
     },
     "metadata": {},
     "output_type": "display_data"
    },
    {
     "data": {
      "application/vnd.jupyter.widget-view+json": {
       "model_id": "597519bdeb984da0aa822ef36cdbe78f",
       "version_major": 2,
       "version_minor": 0
      },
      "text/plain": [
       "  0%|          | 0/7 [00:00<?, ?it/s]"
      ]
     },
     "metadata": {},
     "output_type": "display_data"
    },
    {
     "name": "stdout",
     "output_type": "stream",
     "text": [
      "              precision    recall  f1-score   support\n",
      "\n",
      "       anger       0.86      0.75      0.80       270\n",
      "     disgust       0.55      0.53      0.54       125\n",
      "        fear       0.87      0.66      0.75       110\n",
      "         joy       0.87      0.81      0.84       252\n",
      "     sadness       0.75      0.80      0.77       304\n",
      "     neutral       0.92      0.86      0.89       226\n",
      "\n",
      "   micro avg       0.81      0.76      0.79      1287\n",
      "   macro avg       0.80      0.73      0.77      1287\n",
      "weighted avg       0.82      0.76      0.79      1287\n",
      " samples avg       0.84      0.82      0.81      1287\n",
      "\n"
     ]
    }
   ],
   "source": [
    "eval_df = model.evaluate(test_6_labels)"
   ]
  },
  {
   "cell_type": "code",
   "execution_count": 4,
   "id": "be871b5c-1932-466d-b77c-dce87a2ebdea",
   "metadata": {},
   "outputs": [
    {
     "data": {
      "application/vnd.jupyter.widget-view+json": {
       "model_id": "39eebcfb99b346eb95f7bb7367e9ec19",
       "version_major": 2,
       "version_minor": 0
      },
      "text/plain": [
       "  0%|          | 0/2 [00:00<?, ?it/s]"
      ]
     },
     "metadata": {},
     "output_type": "display_data"
    },
    {
     "data": {
      "application/vnd.jupyter.widget-view+json": {
       "model_id": "8c563365c17c4274a024f0a0d17e6cb4",
       "version_major": 2,
       "version_minor": 0
      },
      "text/plain": [
       "  0%|          | 0/1 [00:00<?, ?it/s]"
      ]
     },
     "metadata": {},
     "output_type": "display_data"
    },
    {
     "data": {
      "text/html": [
       "<div>\n",
       "<style scoped>\n",
       "    .dataframe tbody tr th:only-of-type {\n",
       "        vertical-align: middle;\n",
       "    }\n",
       "\n",
       "    .dataframe tbody tr th {\n",
       "        vertical-align: top;\n",
       "    }\n",
       "\n",
       "    .dataframe thead th {\n",
       "        text-align: right;\n",
       "    }\n",
       "</style>\n",
       "<table border=\"1\" class=\"dataframe\">\n",
       "  <thead>\n",
       "    <tr style=\"text-align: right;\">\n",
       "      <th></th>\n",
       "      <th>anger</th>\n",
       "      <th>disgust</th>\n",
       "      <th>fear</th>\n",
       "      <th>joy</th>\n",
       "      <th>sadness</th>\n",
       "      <th>neutral</th>\n",
       "      <th>pred_labels</th>\n",
       "      <th>clean_text</th>\n",
       "    </tr>\n",
       "  </thead>\n",
       "  <tbody>\n",
       "    <tr>\n",
       "      <th>0</th>\n",
       "      <td>0.885742</td>\n",
       "      <td>0.516113</td>\n",
       "      <td>0.136230</td>\n",
       "      <td>0.077942</td>\n",
       "      <td>0.728027</td>\n",
       "      <td>0.06720</td>\n",
       "      <td>anger, disgust, sadness</td>\n",
       "      <td>الناس ميتين جوع في ذمتكم الله لاسامحكم</td>\n",
       "    </tr>\n",
       "    <tr>\n",
       "      <th>1</th>\n",
       "      <td>0.084045</td>\n",
       "      <td>0.084778</td>\n",
       "      <td>0.134033</td>\n",
       "      <td>0.901367</td>\n",
       "      <td>0.116943</td>\n",
       "      <td>0.09845</td>\n",
       "      <td>joy</td>\n",
       "      <td>فوق ماهو # أمان يجمع كل شعور حلو</td>\n",
       "    </tr>\n",
       "  </tbody>\n",
       "</table>\n",
       "</div>"
      ],
      "text/plain": [
       "      anger   disgust      fear       joy   sadness  neutral  \\\n",
       "0  0.885742  0.516113  0.136230  0.077942  0.728027  0.06720   \n",
       "1  0.084045  0.084778  0.134033  0.901367  0.116943  0.09845   \n",
       "\n",
       "               pred_labels                              clean_text  \n",
       "0  anger, disgust, sadness  الناس ميتين جوع في ذمتكم الله لاسامحكم  \n",
       "1                      joy        فوق ماهو # أمان يجمع كل شعور حلو  "
      ]
     },
     "execution_count": 4,
     "metadata": {},
     "output_type": "execute_result"
    }
   ],
   "source": [
    "tweets = ['الناس ميتين جوع في ذمتكم الله لاسامحكم',\n",
    "          'فوق ماهو #أمان يجمع كل شعور حلو']\n",
    "model.predict(tweets)"
   ]
  },
  {
   "cell_type": "markdown",
   "id": "bd97611a-f25a-419b-ab12-f0de395a148f",
   "metadata": {
    "tags": []
   },
   "source": [
    "#### 12 labels with TSDAE pre-trainings"
   ]
  },
  {
   "cell_type": "code",
   "execution_count": 2,
   "id": "111017ae-bfda-4ee1-b599-d0f761c294f2",
   "metadata": {
    "collapsed": true,
    "jupyter": {
     "outputs_hidden": true
    },
    "tags": []
   },
   "outputs": [
    {
     "name": "stdout",
     "output_type": "stream",
     "text": [
      "pre-training an unsupervised TSDAE model...\n"
     ]
    },
    {
     "name": "stderr",
     "output_type": "stream",
     "text": [
      "Some weights of the model checkpoint at UBC-NLP/MARBERT were not used when initializing BertModel: ['cls.seq_relationship.bias', 'cls.predictions.transform.LayerNorm.bias', 'cls.predictions.transform.dense.bias', 'cls.predictions.transform.dense.weight', 'cls.predictions.decoder.weight', 'cls.predictions.bias', 'cls.predictions.transform.LayerNorm.weight', 'cls.seq_relationship.weight']\n",
      "- This IS expected if you are initializing BertModel from the checkpoint of a model trained on another task or with another architecture (e.g. initializing a BertForSequenceClassification model from a BertForPreTraining model).\n",
      "- This IS NOT expected if you are initializing BertModel from the checkpoint of a model that you expect to be exactly identical (initializing a BertForSequenceClassification model from a BertForSequenceClassification model).\n",
      "When tie_encoder_decoder=True, the decoder_name_or_path will be invalid.\n",
      "Some weights of the model checkpoint at UBC-NLP/MARBERT were not used when initializing BertLMHeadModel: ['cls.seq_relationship.bias', 'cls.seq_relationship.weight']\n",
      "- This IS expected if you are initializing BertLMHeadModel from the checkpoint of a model trained on another task or with another architecture (e.g. initializing a BertForSequenceClassification model from a BertForPreTraining model).\n",
      "- This IS NOT expected if you are initializing BertLMHeadModel from the checkpoint of a model that you expect to be exactly identical (initializing a BertForSequenceClassification model from a BertForSequenceClassification model).\n",
      "Some weights of BertLMHeadModel were not initialized from the model checkpoint at UBC-NLP/MARBERT and are newly initialized: ['bert.encoder.layer.6.crossattention.self.value.weight', 'bert.encoder.layer.11.crossattention.self.value.bias', 'bert.encoder.layer.4.crossattention.self.key.weight', 'bert.encoder.layer.3.crossattention.output.dense.bias', 'bert.encoder.layer.9.crossattention.self.value.weight', 'bert.encoder.layer.8.crossattention.output.LayerNorm.bias', 'bert.encoder.layer.7.crossattention.output.dense.bias', 'bert.encoder.layer.0.crossattention.output.dense.bias', 'bert.encoder.layer.9.crossattention.output.LayerNorm.weight', 'bert.encoder.layer.3.crossattention.self.query.bias', 'bert.encoder.layer.2.crossattention.output.LayerNorm.bias', 'bert.encoder.layer.7.crossattention.self.key.bias', 'bert.encoder.layer.10.crossattention.self.query.bias', 'bert.encoder.layer.9.crossattention.output.dense.bias', 'bert.encoder.layer.1.crossattention.output.dense.weight', 'bert.encoder.layer.7.crossattention.output.dense.weight', 'bert.encoder.layer.9.crossattention.output.dense.weight', 'bert.encoder.layer.0.crossattention.self.key.weight', 'bert.encoder.layer.11.crossattention.output.LayerNorm.bias', 'bert.encoder.layer.11.crossattention.self.value.weight', 'bert.encoder.layer.5.crossattention.self.query.weight', 'bert.encoder.layer.8.crossattention.self.key.weight', 'bert.encoder.layer.1.crossattention.self.key.bias', 'bert.encoder.layer.0.crossattention.output.dense.weight', 'bert.encoder.layer.3.crossattention.self.value.weight', 'bert.encoder.layer.8.crossattention.output.dense.bias', 'bert.encoder.layer.8.crossattention.self.value.bias', 'bert.encoder.layer.10.crossattention.self.query.weight', 'bert.encoder.layer.5.crossattention.self.key.bias', 'bert.encoder.layer.6.crossattention.self.key.bias', 'bert.encoder.layer.7.crossattention.self.query.weight', 'bert.encoder.layer.3.crossattention.self.value.bias', 'bert.encoder.layer.4.crossattention.output.LayerNorm.bias', 'bert.encoder.layer.5.crossattention.self.value.weight', 'bert.encoder.layer.10.crossattention.output.dense.weight', 'bert.encoder.layer.3.crossattention.output.dense.weight', 'bert.encoder.layer.1.crossattention.self.value.bias', 'bert.encoder.layer.3.crossattention.output.LayerNorm.bias', 'bert.encoder.layer.0.crossattention.self.key.bias', 'bert.encoder.layer.3.crossattention.self.key.weight', 'bert.encoder.layer.6.crossattention.self.query.weight', 'bert.encoder.layer.8.crossattention.output.LayerNorm.weight', 'bert.encoder.layer.0.crossattention.self.value.weight', 'bert.encoder.layer.7.crossattention.self.value.bias', 'bert.encoder.layer.1.crossattention.output.LayerNorm.weight', 'bert.encoder.layer.5.crossattention.output.dense.weight', 'bert.encoder.layer.6.crossattention.output.LayerNorm.weight', 'bert.encoder.layer.7.crossattention.self.key.weight', 'bert.encoder.layer.2.crossattention.self.key.bias', 'bert.encoder.layer.8.crossattention.self.value.weight', 'bert.encoder.layer.11.crossattention.output.dense.weight', 'bert.encoder.layer.11.crossattention.self.key.bias', 'bert.encoder.layer.6.crossattention.output.dense.weight', 'bert.encoder.layer.4.crossattention.output.dense.weight', 'bert.encoder.layer.5.crossattention.output.LayerNorm.weight', 'bert.encoder.layer.9.crossattention.self.key.weight', 'bert.encoder.layer.2.crossattention.output.LayerNorm.weight', 'bert.encoder.layer.7.crossattention.self.query.bias', 'bert.encoder.layer.6.crossattention.output.dense.bias', 'bert.encoder.layer.10.crossattention.output.LayerNorm.weight', 'bert.encoder.layer.5.crossattention.self.key.weight', 'bert.encoder.layer.5.crossattention.output.LayerNorm.bias', 'bert.encoder.layer.11.crossattention.output.dense.bias', 'bert.encoder.layer.3.crossattention.output.LayerNorm.weight', 'bert.encoder.layer.11.crossattention.self.key.weight', 'bert.encoder.layer.8.crossattention.self.query.weight', 'bert.encoder.layer.4.crossattention.self.value.weight', 'bert.encoder.layer.7.crossattention.output.LayerNorm.bias', 'bert.encoder.layer.2.crossattention.self.query.bias', 'bert.encoder.layer.4.crossattention.self.key.bias', 'bert.encoder.layer.8.crossattention.output.dense.weight', 'bert.encoder.layer.0.crossattention.self.query.weight', 'bert.encoder.layer.3.crossattention.self.key.bias', 'bert.encoder.layer.3.crossattention.self.query.weight', 'bert.encoder.layer.5.crossattention.self.value.bias', 'bert.encoder.layer.6.crossattention.self.key.weight', 'bert.encoder.layer.2.crossattention.self.value.weight', 'bert.encoder.layer.4.crossattention.output.LayerNorm.weight', 'bert.encoder.layer.2.crossattention.output.dense.weight', 'bert.encoder.layer.8.crossattention.self.query.bias', 'bert.encoder.layer.10.crossattention.self.key.weight', 'bert.encoder.layer.4.crossattention.self.query.bias', 'bert.encoder.layer.2.crossattention.output.dense.bias', 'bert.encoder.layer.6.crossattention.self.value.bias', 'bert.encoder.layer.1.crossattention.output.dense.bias', 'bert.encoder.layer.10.crossattention.output.dense.bias', 'bert.encoder.layer.6.crossattention.output.LayerNorm.bias', 'bert.encoder.layer.7.crossattention.output.LayerNorm.weight', 'bert.encoder.layer.1.crossattention.output.LayerNorm.bias', 'bert.encoder.layer.11.crossattention.self.query.weight', 'bert.encoder.layer.9.crossattention.self.value.bias', 'bert.encoder.layer.2.crossattention.self.value.bias', 'bert.encoder.layer.0.crossattention.self.value.bias', 'bert.encoder.layer.9.crossattention.output.LayerNorm.bias', 'bert.encoder.layer.4.crossattention.output.dense.bias', 'bert.encoder.layer.0.crossattention.output.LayerNorm.bias', 'bert.encoder.layer.1.crossattention.self.query.weight', 'bert.encoder.layer.5.crossattention.output.dense.bias', 'bert.encoder.layer.11.crossattention.output.LayerNorm.weight', 'bert.encoder.layer.6.crossattention.self.query.bias', 'bert.encoder.layer.0.crossattention.self.query.bias', 'bert.encoder.layer.2.crossattention.self.query.weight', 'bert.encoder.layer.10.crossattention.self.value.bias', 'bert.encoder.layer.5.crossattention.self.query.bias', 'bert.encoder.layer.7.crossattention.self.value.weight', 'bert.encoder.layer.10.crossattention.output.LayerNorm.bias', 'bert.encoder.layer.9.crossattention.self.key.bias', 'bert.encoder.layer.1.crossattention.self.key.weight', 'bert.encoder.layer.4.crossattention.self.query.weight', 'bert.encoder.layer.1.crossattention.self.query.bias', 'bert.encoder.layer.1.crossattention.self.value.weight', 'bert.encoder.layer.4.crossattention.self.value.bias', 'bert.encoder.layer.11.crossattention.self.query.bias', 'bert.encoder.layer.0.crossattention.output.LayerNorm.weight', 'bert.encoder.layer.2.crossattention.self.key.weight', 'bert.encoder.layer.9.crossattention.self.query.weight', 'bert.encoder.layer.9.crossattention.self.query.bias', 'bert.encoder.layer.8.crossattention.self.key.bias', 'bert.encoder.layer.10.crossattention.self.value.weight', 'bert.encoder.layer.10.crossattention.self.key.bias']\n",
      "You should probably TRAIN this model on a down-stream task to be able to use it for predictions and inference.\n",
      "The following encoder weights were not tied to the decoder ['bert/pooler']\n"
     ]
    },
    {
     "data": {
      "application/vnd.jupyter.widget-view+json": {
       "model_id": "0ad598ad951f4afeac923e3c88bc5a11",
       "version_major": 2,
       "version_minor": 0
      },
      "text/plain": [
       "Epoch:   0%|          | 0/3 [00:00<?, ?it/s]"
      ]
     },
     "metadata": {},
     "output_type": "display_data"
    },
    {
     "data": {
      "application/vnd.jupyter.widget-view+json": {
       "model_id": "b7a4109bf22942269cf8427e5fe7d5f7",
       "version_major": 2,
       "version_minor": 0
      },
      "text/plain": [
       "Iteration:   0%|          | 0/184 [00:00<?, ?it/s]"
      ]
     },
     "metadata": {},
     "output_type": "display_data"
    },
    {
     "data": {
      "application/vnd.jupyter.widget-view+json": {
       "model_id": "f8ed4a78d5aa47b69cb5d0a55f0a706f",
       "version_major": 2,
       "version_minor": 0
      },
      "text/plain": [
       "Iteration:   0%|          | 0/184 [00:00<?, ?it/s]"
      ]
     },
     "metadata": {},
     "output_type": "display_data"
    },
    {
     "data": {
      "application/vnd.jupyter.widget-view+json": {
       "model_id": "150678f7cac74bd1983f82ab5d9a5430",
       "version_major": 2,
       "version_minor": 0
      },
      "text/plain": [
       "Iteration:   0%|          | 0/184 [00:00<?, ?it/s]"
      ]
     },
     "metadata": {},
     "output_type": "display_data"
    },
    {
     "name": "stdout",
     "output_type": "stream",
     "text": [
      "finished unsupervised training, starting supervised training from multilabel_tsdae_12/TSDAE/0_Transformer...\n",
      "loading model from multilabel_tsdae_12/TSDAE/0_Transformer...\n"
     ]
    },
    {
     "name": "stderr",
     "output_type": "stream",
     "text": [
      "Some weights of BertForMultiLabelSequenceClassification were not initialized from the model checkpoint at multilabel_tsdae_12/TSDAE/0_Transformer and are newly initialized: ['classifier.weight', 'classifier.bias']\n",
      "You should probably TRAIN this model on a down-stream task to be able to use it for predictions and inference.\n"
     ]
    },
    {
     "name": "stdout",
     "output_type": "stream",
     "text": [
      "Calculating weights...\n",
      "                 weight\n",
      "anger          2.439780\n",
      "anticipation  12.960894\n",
      "disgust        5.846575\n",
      "fear           6.459701\n",
      "joy            3.988024\n",
      "love           4.266596\n",
      "optimism       4.504405\n",
      "pessimism      4.914793\n",
      "sadness        2.611272\n",
      "surprise      55.795455\n",
      "trust         24.242424\n",
      "neutral        2.847575\n"
     ]
    },
    {
     "data": {
      "application/vnd.jupyter.widget-view+json": {
       "model_id": "7042a3d7751144c1b7f91def30ee4bda",
       "version_major": 2,
       "version_minor": 0
      },
      "text/plain": [
       "  0%|          | 0/4998 [00:00<?, ?it/s]"
      ]
     },
     "metadata": {},
     "output_type": "display_data"
    },
    {
     "data": {
      "application/vnd.jupyter.widget-view+json": {
       "model_id": "d62f5cfe215240cfb0d384a8e5e06d40",
       "version_major": 2,
       "version_minor": 0
      },
      "text/plain": [
       "Epoch:   0%|          | 0/12 [00:00<?, ?it/s]"
      ]
     },
     "metadata": {},
     "output_type": "display_data"
    },
    {
     "data": {
      "application/vnd.jupyter.widget-view+json": {
       "model_id": "c33719b3e9044345b9bec9f31fcf2c64",
       "version_major": 2,
       "version_minor": 0
      },
      "text/plain": [
       "Running Epoch 0 of 12:   0%|          | 0/157 [00:00<?, ?it/s]"
      ]
     },
     "metadata": {},
     "output_type": "display_data"
    },
    {
     "data": {
      "application/vnd.jupyter.widget-view+json": {
       "model_id": "ef3b4decbdf346d4b401f299b1e0915e",
       "version_major": 2,
       "version_minor": 0
      },
      "text/plain": [
       "  0%|          | 0/883 [00:00<?, ?it/s]"
      ]
     },
     "metadata": {},
     "output_type": "display_data"
    },
    {
     "name": "stdout",
     "output_type": "stream",
     "text": [
      "              precision    recall  f1-score   support\n",
      "\n",
      "       anger       0.00      0.00      0.00       270\n",
      "anticipation       0.00      0.00      0.00        63\n",
      "     disgust       0.00      0.00      0.00       125\n",
      "        fear       0.00      0.00      0.00       110\n",
      "         joy       0.00      0.00      0.00       175\n",
      "        love       0.00      0.00      0.00       155\n",
      "    optimism       0.00      0.00      0.00       166\n",
      "   pessimism       0.00      0.00      0.00       156\n",
      "     sadness       0.00      0.00      0.00       254\n",
      "    surprise       0.00      0.00      0.00        10\n",
      "       trust       0.00      0.00      0.00        35\n",
      "     neutral       0.00      0.00      0.00       226\n",
      "\n",
      "   micro avg       0.00      0.00      0.00      1745\n",
      "   macro avg       0.00      0.00      0.00      1745\n",
      "weighted avg       0.00      0.00      0.00      1745\n",
      " samples avg       0.00      0.00      0.00      1745\n",
      "\n"
     ]
    },
    {
     "name": "stderr",
     "output_type": "stream",
     "text": [
      "/opt/anaconda3/envs/yotam-inf/lib/python3.8/site-packages/sklearn/metrics/_classification.py:1248: UndefinedMetricWarning: Precision is ill-defined and being set to 0.0 in labels with no predicted samples. Use `zero_division` parameter to control this behavior.\n",
      "  _warn_prf(average, modifier, msg_start, len(result))\n"
     ]
    },
    {
     "data": {
      "application/vnd.jupyter.widget-view+json": {
       "model_id": "9f0759d27ce6497597429439eb622158",
       "version_major": 2,
       "version_minor": 0
      },
      "text/plain": [
       "  0%|          | 0/883 [00:00<?, ?it/s]"
      ]
     },
     "metadata": {},
     "output_type": "display_data"
    },
    {
     "name": "stdout",
     "output_type": "stream",
     "text": [
      "              precision    recall  f1-score   support\n",
      "\n",
      "       anger       0.00      0.00      0.00       270\n",
      "anticipation       0.00      0.00      0.00        63\n",
      "     disgust       0.00      0.00      0.00       125\n",
      "        fear       0.00      0.00      0.00       110\n",
      "         joy       0.00      0.00      0.00       175\n",
      "        love       0.00      0.00      0.00       155\n",
      "    optimism       0.00      0.00      0.00       166\n",
      "   pessimism       0.00      0.00      0.00       156\n",
      "     sadness       0.00      0.00      0.00       254\n",
      "    surprise       0.00      0.00      0.00        10\n",
      "       trust       0.00      0.00      0.00        35\n",
      "     neutral       0.00      0.00      0.00       226\n",
      "\n",
      "   micro avg       0.00      0.00      0.00      1745\n",
      "   macro avg       0.00      0.00      0.00      1745\n",
      "weighted avg       0.00      0.00      0.00      1745\n",
      " samples avg       0.00      0.00      0.00      1745\n",
      "\n"
     ]
    },
    {
     "name": "stderr",
     "output_type": "stream",
     "text": [
      "/opt/anaconda3/envs/yotam-inf/lib/python3.8/site-packages/sklearn/metrics/_classification.py:1248: UndefinedMetricWarning: Precision is ill-defined and being set to 0.0 in labels with no predicted samples. Use `zero_division` parameter to control this behavior.\n",
      "  _warn_prf(average, modifier, msg_start, len(result))\n"
     ]
    },
    {
     "data": {
      "application/vnd.jupyter.widget-view+json": {
       "model_id": "36663388e57642e099b595a761c64e19",
       "version_major": 2,
       "version_minor": 0
      },
      "text/plain": [
       "Running Epoch 1 of 12:   0%|          | 0/157 [00:00<?, ?it/s]"
      ]
     },
     "metadata": {},
     "output_type": "display_data"
    },
    {
     "data": {
      "application/vnd.jupyter.widget-view+json": {
       "model_id": "30845a5457b049c59f1495a7bdd43f90",
       "version_major": 2,
       "version_minor": 0
      },
      "text/plain": [
       "  0%|          | 0/883 [00:00<?, ?it/s]"
      ]
     },
     "metadata": {},
     "output_type": "display_data"
    },
    {
     "name": "stdout",
     "output_type": "stream",
     "text": [
      "              precision    recall  f1-score   support\n",
      "\n",
      "       anger       1.00      0.01      0.01       270\n",
      "anticipation       0.00      0.00      0.00        63\n",
      "     disgust       0.00      0.00      0.00       125\n",
      "        fear       0.00      0.00      0.00       110\n",
      "         joy       0.88      0.70      0.78       175\n",
      "        love       0.84      0.58      0.69       155\n",
      "    optimism       0.82      0.35      0.49       166\n",
      "   pessimism       0.00      0.00      0.00       156\n",
      "     sadness       0.84      0.34      0.48       254\n",
      "    surprise       0.00      0.00      0.00        10\n",
      "       trust       0.00      0.00      0.00        35\n",
      "     neutral       0.98      0.64      0.78       226\n",
      "\n",
      "   micro avg       0.89      0.29      0.43      1745\n",
      "   macro avg       0.45      0.22      0.27      1745\n",
      "weighted avg       0.65      0.29      0.36      1745\n",
      " samples avg       0.40      0.34      0.35      1745\n",
      "\n"
     ]
    },
    {
     "name": "stderr",
     "output_type": "stream",
     "text": [
      "/opt/anaconda3/envs/yotam-inf/lib/python3.8/site-packages/sklearn/metrics/_classification.py:1248: UndefinedMetricWarning: Precision is ill-defined and being set to 0.0 in labels with no predicted samples. Use `zero_division` parameter to control this behavior.\n",
      "  _warn_prf(average, modifier, msg_start, len(result))\n"
     ]
    },
    {
     "data": {
      "application/vnd.jupyter.widget-view+json": {
       "model_id": "18b00fde42d74c7abc8b125f748f1307",
       "version_major": 2,
       "version_minor": 0
      },
      "text/plain": [
       "  0%|          | 0/883 [00:00<?, ?it/s]"
      ]
     },
     "metadata": {},
     "output_type": "display_data"
    },
    {
     "name": "stdout",
     "output_type": "stream",
     "text": [
      "              precision    recall  f1-score   support\n",
      "\n",
      "       anger       0.88      0.53      0.66       270\n",
      "anticipation       0.00      0.00      0.00        63\n",
      "     disgust       0.00      0.00      0.00       125\n",
      "        fear       0.00      0.00      0.00       110\n",
      "         joy       0.83      0.78      0.81       175\n",
      "        love       0.77      0.71      0.74       155\n",
      "    optimism       0.74      0.65      0.69       166\n",
      "   pessimism       0.00      0.00      0.00       156\n",
      "     sadness       0.81      0.55      0.65       254\n",
      "    surprise       0.00      0.00      0.00        10\n",
      "       trust       0.00      0.00      0.00        35\n",
      "     neutral       0.93      0.82      0.87       226\n",
      "\n",
      "   micro avg       0.83      0.47      0.60      1745\n",
      "   macro avg       0.41      0.34      0.37      1745\n",
      "weighted avg       0.60      0.47      0.52      1745\n",
      " samples avg       0.65      0.54      0.56      1745\n",
      "\n"
     ]
    },
    {
     "name": "stderr",
     "output_type": "stream",
     "text": [
      "/opt/anaconda3/envs/yotam-inf/lib/python3.8/site-packages/sklearn/metrics/_classification.py:1248: UndefinedMetricWarning: Precision is ill-defined and being set to 0.0 in labels with no predicted samples. Use `zero_division` parameter to control this behavior.\n",
      "  _warn_prf(average, modifier, msg_start, len(result))\n"
     ]
    },
    {
     "data": {
      "application/vnd.jupyter.widget-view+json": {
       "model_id": "5ae7cf85857c4fa3b7bd2b810f3d2a17",
       "version_major": 2,
       "version_minor": 0
      },
      "text/plain": [
       "  0%|          | 0/883 [00:00<?, ?it/s]"
      ]
     },
     "metadata": {},
     "output_type": "display_data"
    },
    {
     "name": "stdout",
     "output_type": "stream",
     "text": [
      "              precision    recall  f1-score   support\n",
      "\n",
      "       anger       0.88      0.53      0.67       270\n",
      "anticipation       0.00      0.00      0.00        63\n",
      "     disgust       0.00      0.00      0.00       125\n",
      "        fear       0.00      0.00      0.00       110\n",
      "         joy       0.84      0.77      0.81       175\n",
      "        love       0.77      0.70      0.74       155\n",
      "    optimism       0.74      0.64      0.69       166\n",
      "   pessimism       0.00      0.00      0.00       156\n",
      "     sadness       0.79      0.59      0.68       254\n",
      "    surprise       0.00      0.00      0.00        10\n",
      "       trust       0.00      0.00      0.00        35\n",
      "     neutral       0.94      0.81      0.87       226\n",
      "\n",
      "   micro avg       0.83      0.48      0.61      1745\n",
      "   macro avg       0.41      0.34      0.37      1745\n",
      "weighted avg       0.60      0.48      0.53      1745\n",
      " samples avg       0.66      0.54      0.56      1745\n",
      "\n"
     ]
    },
    {
     "name": "stderr",
     "output_type": "stream",
     "text": [
      "/opt/anaconda3/envs/yotam-inf/lib/python3.8/site-packages/sklearn/metrics/_classification.py:1248: UndefinedMetricWarning: Precision is ill-defined and being set to 0.0 in labels with no predicted samples. Use `zero_division` parameter to control this behavior.\n",
      "  _warn_prf(average, modifier, msg_start, len(result))\n"
     ]
    },
    {
     "data": {
      "application/vnd.jupyter.widget-view+json": {
       "model_id": "eecc640bc5a84b98ae3dbda6a137f468",
       "version_major": 2,
       "version_minor": 0
      },
      "text/plain": [
       "Running Epoch 2 of 12:   0%|          | 0/157 [00:00<?, ?it/s]"
      ]
     },
     "metadata": {},
     "output_type": "display_data"
    },
    {
     "data": {
      "application/vnd.jupyter.widget-view+json": {
       "model_id": "c8f361f016b944a69600a23e752be4cd",
       "version_major": 2,
       "version_minor": 0
      },
      "text/plain": [
       "  0%|          | 0/883 [00:00<?, ?it/s]"
      ]
     },
     "metadata": {},
     "output_type": "display_data"
    },
    {
     "name": "stdout",
     "output_type": "stream",
     "text": [
      "              precision    recall  f1-score   support\n",
      "\n",
      "       anger       0.88      0.70      0.78       270\n",
      "anticipation       0.00      0.00      0.00        63\n",
      "     disgust       0.78      0.11      0.20       125\n",
      "        fear       0.00      0.00      0.00       110\n",
      "         joy       0.82      0.81      0.81       175\n",
      "        love       0.72      0.77      0.74       155\n",
      "    optimism       0.73      0.70      0.72       166\n",
      "   pessimism       0.00      0.00      0.00       156\n",
      "     sadness       0.73      0.79      0.76       254\n",
      "    surprise       0.00      0.00      0.00        10\n",
      "       trust       0.00      0.00      0.00        35\n",
      "     neutral       0.94      0.80      0.86       226\n",
      "\n",
      "   micro avg       0.80      0.55      0.65      1745\n",
      "   macro avg       0.47      0.39      0.41      1745\n",
      "weighted avg       0.64      0.55      0.57      1745\n",
      " samples avg       0.73      0.61      0.63      1745\n",
      "\n"
     ]
    },
    {
     "name": "stderr",
     "output_type": "stream",
     "text": [
      "/opt/anaconda3/envs/yotam-inf/lib/python3.8/site-packages/sklearn/metrics/_classification.py:1248: UndefinedMetricWarning: Precision is ill-defined and being set to 0.0 in labels with no predicted samples. Use `zero_division` parameter to control this behavior.\n",
      "  _warn_prf(average, modifier, msg_start, len(result))\n"
     ]
    },
    {
     "data": {
      "application/vnd.jupyter.widget-view+json": {
       "model_id": "6dd6783acf144547ab35b97cce63600c",
       "version_major": 2,
       "version_minor": 0
      },
      "text/plain": [
       "  0%|          | 0/883 [00:00<?, ?it/s]"
      ]
     },
     "metadata": {},
     "output_type": "display_data"
    },
    {
     "name": "stdout",
     "output_type": "stream",
     "text": [
      "              precision    recall  f1-score   support\n",
      "\n",
      "       anger       0.86      0.74      0.79       270\n",
      "anticipation       0.00      0.00      0.00        63\n",
      "     disgust       0.83      0.15      0.26       125\n",
      "        fear       0.00      0.00      0.00       110\n",
      "         joy       0.87      0.77      0.82       175\n",
      "        love       0.76      0.70      0.73       155\n",
      "    optimism       0.75      0.66      0.70       166\n",
      "   pessimism       0.00      0.00      0.00       156\n",
      "     sadness       0.76      0.69      0.72       254\n",
      "    surprise       0.00      0.00      0.00        10\n",
      "       trust       0.00      0.00      0.00        35\n",
      "     neutral       0.92      0.83      0.87       226\n",
      "\n",
      "   micro avg       0.82      0.53      0.65      1745\n",
      "   macro avg       0.48      0.38      0.41      1745\n",
      "weighted avg       0.65      0.53      0.57      1745\n",
      " samples avg       0.73      0.60      0.63      1745\n",
      "\n"
     ]
    },
    {
     "name": "stderr",
     "output_type": "stream",
     "text": [
      "/opt/anaconda3/envs/yotam-inf/lib/python3.8/site-packages/sklearn/metrics/_classification.py:1248: UndefinedMetricWarning: Precision is ill-defined and being set to 0.0 in labels with no predicted samples. Use `zero_division` parameter to control this behavior.\n",
      "  _warn_prf(average, modifier, msg_start, len(result))\n"
     ]
    },
    {
     "data": {
      "application/vnd.jupyter.widget-view+json": {
       "model_id": "d7faf4cc9ce241f6bb9664d86974a417",
       "version_major": 2,
       "version_minor": 0
      },
      "text/plain": [
       "Running Epoch 3 of 12:   0%|          | 0/157 [00:00<?, ?it/s]"
      ]
     },
     "metadata": {},
     "output_type": "display_data"
    },
    {
     "data": {
      "application/vnd.jupyter.widget-view+json": {
       "model_id": "4faffe75365045519f9938629a9a570c",
       "version_major": 2,
       "version_minor": 0
      },
      "text/plain": [
       "  0%|          | 0/883 [00:00<?, ?it/s]"
      ]
     },
     "metadata": {},
     "output_type": "display_data"
    },
    {
     "name": "stdout",
     "output_type": "stream",
     "text": [
      "              precision    recall  f1-score   support\n",
      "\n",
      "       anger       0.88      0.73      0.80       270\n",
      "anticipation       0.00      0.00      0.00        63\n",
      "     disgust       0.69      0.36      0.47       125\n",
      "        fear       0.00      0.00      0.00       110\n",
      "         joy       0.78      0.89      0.83       175\n",
      "        love       0.69      0.82      0.75       155\n",
      "    optimism       0.68      0.75      0.71       166\n",
      "   pessimism       0.00      0.00      0.00       156\n",
      "     sadness       0.76      0.67      0.71       254\n",
      "    surprise       0.00      0.00      0.00        10\n",
      "       trust       0.00      0.00      0.00        35\n",
      "     neutral       0.95      0.82      0.88       226\n",
      "\n",
      "   micro avg       0.79      0.58      0.67      1745\n",
      "   macro avg       0.45      0.42      0.43      1745\n",
      "weighted avg       0.62      0.58      0.59      1745\n",
      " samples avg       0.74      0.63      0.65      1745\n",
      "\n"
     ]
    },
    {
     "name": "stderr",
     "output_type": "stream",
     "text": [
      "/opt/anaconda3/envs/yotam-inf/lib/python3.8/site-packages/sklearn/metrics/_classification.py:1248: UndefinedMetricWarning: Precision is ill-defined and being set to 0.0 in labels with no predicted samples. Use `zero_division` parameter to control this behavior.\n",
      "  _warn_prf(average, modifier, msg_start, len(result))\n"
     ]
    },
    {
     "data": {
      "application/vnd.jupyter.widget-view+json": {
       "model_id": "0539e68abf664118a061a2bde3de1ba4",
       "version_major": 2,
       "version_minor": 0
      },
      "text/plain": [
       "  0%|          | 0/883 [00:00<?, ?it/s]"
      ]
     },
     "metadata": {},
     "output_type": "display_data"
    },
    {
     "name": "stdout",
     "output_type": "stream",
     "text": [
      "              precision    recall  f1-score   support\n",
      "\n",
      "       anger       0.88      0.74      0.80       270\n",
      "anticipation       0.00      0.00      0.00        63\n",
      "     disgust       0.59      0.39      0.47       125\n",
      "        fear       1.00      0.06      0.12       110\n",
      "         joy       0.82      0.83      0.83       175\n",
      "        love       0.73      0.76      0.74       155\n",
      "    optimism       0.73      0.72      0.73       166\n",
      "   pessimism       0.00      0.00      0.00       156\n",
      "     sadness       0.77      0.74      0.76       254\n",
      "    surprise       0.00      0.00      0.00        10\n",
      "       trust       0.00      0.00      0.00        35\n",
      "     neutral       0.91      0.87      0.89       226\n",
      "\n",
      "   micro avg       0.80      0.59      0.68      1745\n",
      "   macro avg       0.54      0.43      0.45      1745\n",
      "weighted avg       0.69      0.59      0.61      1745\n",
      " samples avg       0.74      0.66      0.67      1745\n",
      "\n"
     ]
    },
    {
     "name": "stderr",
     "output_type": "stream",
     "text": [
      "/opt/anaconda3/envs/yotam-inf/lib/python3.8/site-packages/sklearn/metrics/_classification.py:1248: UndefinedMetricWarning: Precision is ill-defined and being set to 0.0 in labels with no predicted samples. Use `zero_division` parameter to control this behavior.\n",
      "  _warn_prf(average, modifier, msg_start, len(result))\n"
     ]
    },
    {
     "data": {
      "application/vnd.jupyter.widget-view+json": {
       "model_id": "12f6e482fd214c5480122e1a626aee2e",
       "version_major": 2,
       "version_minor": 0
      },
      "text/plain": [
       "  0%|          | 0/883 [00:00<?, ?it/s]"
      ]
     },
     "metadata": {},
     "output_type": "display_data"
    },
    {
     "name": "stdout",
     "output_type": "stream",
     "text": [
      "              precision    recall  f1-score   support\n",
      "\n",
      "       anger       0.88      0.73      0.80       270\n",
      "anticipation       0.00      0.00      0.00        63\n",
      "     disgust       0.58      0.39      0.47       125\n",
      "        fear       1.00      0.10      0.18       110\n",
      "         joy       0.82      0.84      0.83       175\n",
      "        love       0.73      0.77      0.75       155\n",
      "    optimism       0.72      0.73      0.73       166\n",
      "   pessimism       0.00      0.00      0.00       156\n",
      "     sadness       0.80      0.69      0.74       254\n",
      "    surprise       0.00      0.00      0.00        10\n",
      "       trust       0.00      0.00      0.00        35\n",
      "     neutral       0.90      0.88      0.89       226\n",
      "\n",
      "   micro avg       0.80      0.59      0.68      1745\n",
      "   macro avg       0.54      0.43      0.45      1745\n",
      "weighted avg       0.69      0.59      0.61      1745\n",
      " samples avg       0.74      0.66      0.66      1745\n",
      "\n"
     ]
    },
    {
     "name": "stderr",
     "output_type": "stream",
     "text": [
      "/opt/anaconda3/envs/yotam-inf/lib/python3.8/site-packages/sklearn/metrics/_classification.py:1248: UndefinedMetricWarning: Precision is ill-defined and being set to 0.0 in labels with no predicted samples. Use `zero_division` parameter to control this behavior.\n",
      "  _warn_prf(average, modifier, msg_start, len(result))\n"
     ]
    },
    {
     "data": {
      "application/vnd.jupyter.widget-view+json": {
       "model_id": "b7cf97d753e04a40ab451fd9b85074df",
       "version_major": 2,
       "version_minor": 0
      },
      "text/plain": [
       "Running Epoch 4 of 12:   0%|          | 0/157 [00:00<?, ?it/s]"
      ]
     },
     "metadata": {},
     "output_type": "display_data"
    },
    {
     "data": {
      "application/vnd.jupyter.widget-view+json": {
       "model_id": "016afb84ec184c25a79d9de4d7b8a22d",
       "version_major": 2,
       "version_minor": 0
      },
      "text/plain": [
       "  0%|          | 0/883 [00:00<?, ?it/s]"
      ]
     },
     "metadata": {},
     "output_type": "display_data"
    },
    {
     "name": "stdout",
     "output_type": "stream",
     "text": [
      "              precision    recall  f1-score   support\n",
      "\n",
      "       anger       0.82      0.80      0.81       270\n",
      "anticipation       0.00      0.00      0.00        63\n",
      "     disgust       0.56      0.58      0.57       125\n",
      "        fear       0.93      0.37      0.53       110\n",
      "         joy       0.87      0.82      0.85       175\n",
      "        love       0.74      0.75      0.75       155\n",
      "    optimism       0.72      0.69      0.71       166\n",
      "   pessimism       0.00      0.00      0.00       156\n",
      "     sadness       0.83      0.66      0.74       254\n",
      "    surprise       0.00      0.00      0.00        10\n",
      "       trust       0.00      0.00      0.00        35\n",
      "     neutral       0.90      0.87      0.88       226\n",
      "\n",
      "   micro avg       0.80      0.61      0.69      1745\n",
      "   macro avg       0.53      0.46      0.49      1745\n",
      "weighted avg       0.69      0.61      0.64      1745\n",
      " samples avg       0.75      0.68      0.68      1745\n",
      "\n"
     ]
    },
    {
     "name": "stderr",
     "output_type": "stream",
     "text": [
      "/opt/anaconda3/envs/yotam-inf/lib/python3.8/site-packages/sklearn/metrics/_classification.py:1248: UndefinedMetricWarning: Precision is ill-defined and being set to 0.0 in labels with no predicted samples. Use `zero_division` parameter to control this behavior.\n",
      "  _warn_prf(average, modifier, msg_start, len(result))\n"
     ]
    },
    {
     "data": {
      "application/vnd.jupyter.widget-view+json": {
       "model_id": "a1033e9573fd467396ea2ed9d2696177",
       "version_major": 2,
       "version_minor": 0
      },
      "text/plain": [
       "  0%|          | 0/883 [00:00<?, ?it/s]"
      ]
     },
     "metadata": {},
     "output_type": "display_data"
    },
    {
     "name": "stdout",
     "output_type": "stream",
     "text": [
      "              precision    recall  f1-score   support\n",
      "\n",
      "       anger       0.83      0.80      0.81       270\n",
      "anticipation       0.00      0.00      0.00        63\n",
      "     disgust       0.57      0.58      0.57       125\n",
      "        fear       0.87      0.60      0.71       110\n",
      "         joy       0.84      0.85      0.85       175\n",
      "        love       0.73      0.76      0.74       155\n",
      "    optimism       0.70      0.72      0.71       166\n",
      "   pessimism       0.00      0.00      0.00       156\n",
      "     sadness       0.81      0.76      0.79       254\n",
      "    surprise       0.00      0.00      0.00        10\n",
      "       trust       0.00      0.00      0.00        35\n",
      "     neutral       0.93      0.84      0.88       226\n",
      "\n",
      "   micro avg       0.79      0.64      0.71      1745\n",
      "   macro avg       0.52      0.49      0.51      1745\n",
      "weighted avg       0.68      0.64      0.66      1745\n",
      " samples avg       0.76      0.70      0.70      1745\n",
      "\n"
     ]
    },
    {
     "name": "stderr",
     "output_type": "stream",
     "text": [
      "/opt/anaconda3/envs/yotam-inf/lib/python3.8/site-packages/sklearn/metrics/_classification.py:1248: UndefinedMetricWarning: Precision is ill-defined and being set to 0.0 in labels with no predicted samples. Use `zero_division` parameter to control this behavior.\n",
      "  _warn_prf(average, modifier, msg_start, len(result))\n"
     ]
    },
    {
     "data": {
      "application/vnd.jupyter.widget-view+json": {
       "model_id": "28fe29f945c1445ea15df11f1e507764",
       "version_major": 2,
       "version_minor": 0
      },
      "text/plain": [
       "Running Epoch 5 of 12:   0%|          | 0/157 [00:00<?, ?it/s]"
      ]
     },
     "metadata": {},
     "output_type": "display_data"
    },
    {
     "data": {
      "application/vnd.jupyter.widget-view+json": {
       "model_id": "8b3c319bf9db43d99ea4a904b8f56d88",
       "version_major": 2,
       "version_minor": 0
      },
      "text/plain": [
       "  0%|          | 0/883 [00:00<?, ?it/s]"
      ]
     },
     "metadata": {},
     "output_type": "display_data"
    },
    {
     "name": "stdout",
     "output_type": "stream",
     "text": [
      "              precision    recall  f1-score   support\n",
      "\n",
      "       anger       0.85      0.78      0.81       270\n",
      "anticipation       0.00      0.00      0.00        63\n",
      "     disgust       0.56      0.65      0.60       125\n",
      "        fear       0.88      0.54      0.67       110\n",
      "         joy       0.80      0.87      0.83       175\n",
      "        love       0.71      0.80      0.75       155\n",
      "    optimism       0.68      0.76      0.72       166\n",
      "   pessimism       0.00      0.00      0.00       156\n",
      "     sadness       0.82      0.70      0.76       254\n",
      "    surprise       0.00      0.00      0.00        10\n",
      "       trust       0.00      0.00      0.00        35\n",
      "     neutral       0.93      0.85      0.89       226\n",
      "\n",
      "   micro avg       0.78      0.64      0.71      1745\n",
      "   macro avg       0.52      0.50      0.50      1745\n",
      "weighted avg       0.67      0.64      0.65      1745\n",
      " samples avg       0.76      0.70      0.70      1745\n",
      "\n"
     ]
    },
    {
     "name": "stderr",
     "output_type": "stream",
     "text": [
      "/opt/anaconda3/envs/yotam-inf/lib/python3.8/site-packages/sklearn/metrics/_classification.py:1248: UndefinedMetricWarning: Precision is ill-defined and being set to 0.0 in labels with no predicted samples. Use `zero_division` parameter to control this behavior.\n",
      "  _warn_prf(average, modifier, msg_start, len(result))\n"
     ]
    },
    {
     "data": {
      "application/vnd.jupyter.widget-view+json": {
       "model_id": "5cb29feb47f446f59793506da32cb9e2",
       "version_major": 2,
       "version_minor": 0
      },
      "text/plain": [
       "  0%|          | 0/883 [00:00<?, ?it/s]"
      ]
     },
     "metadata": {},
     "output_type": "display_data"
    },
    {
     "name": "stdout",
     "output_type": "stream",
     "text": [
      "              precision    recall  f1-score   support\n",
      "\n",
      "       anger       0.84      0.79      0.81       270\n",
      "anticipation       0.00      0.00      0.00        63\n",
      "     disgust       0.59      0.54      0.56       125\n",
      "        fear       0.86      0.57      0.69       110\n",
      "         joy       0.85      0.82      0.83       175\n",
      "        love       0.74      0.75      0.75       155\n",
      "    optimism       0.73      0.70      0.72       166\n",
      "   pessimism       1.00      0.01      0.01       156\n",
      "     sadness       0.78      0.78      0.78       254\n",
      "    surprise       0.00      0.00      0.00        10\n",
      "       trust       0.00      0.00      0.00        35\n",
      "     neutral       0.92      0.86      0.89       226\n",
      "\n",
      "   micro avg       0.80      0.64      0.71      1745\n",
      "   macro avg       0.61      0.49      0.50      1745\n",
      "weighted avg       0.77      0.64      0.66      1745\n",
      " samples avg       0.77      0.70      0.71      1745\n",
      "\n"
     ]
    },
    {
     "name": "stderr",
     "output_type": "stream",
     "text": [
      "/opt/anaconda3/envs/yotam-inf/lib/python3.8/site-packages/sklearn/metrics/_classification.py:1248: UndefinedMetricWarning: Precision is ill-defined and being set to 0.0 in labels with no predicted samples. Use `zero_division` parameter to control this behavior.\n",
      "  _warn_prf(average, modifier, msg_start, len(result))\n"
     ]
    },
    {
     "data": {
      "application/vnd.jupyter.widget-view+json": {
       "model_id": "5bf39a205b8e4324804d534a25c757c4",
       "version_major": 2,
       "version_minor": 0
      },
      "text/plain": [
       "  0%|          | 0/883 [00:00<?, ?it/s]"
      ]
     },
     "metadata": {},
     "output_type": "display_data"
    },
    {
     "name": "stdout",
     "output_type": "stream",
     "text": [
      "              precision    recall  f1-score   support\n",
      "\n",
      "       anger       0.89      0.75      0.82       270\n",
      "anticipation       0.00      0.00      0.00        63\n",
      "     disgust       0.58      0.46      0.51       125\n",
      "        fear       0.86      0.55      0.67       110\n",
      "         joy       0.83      0.83      0.83       175\n",
      "        love       0.72      0.77      0.75       155\n",
      "    optimism       0.72      0.72      0.72       166\n",
      "   pessimism       1.00      0.01      0.01       156\n",
      "     sadness       0.83      0.72      0.77       254\n",
      "    surprise       0.00      0.00      0.00        10\n",
      "       trust       0.00      0.00      0.00        35\n",
      "     neutral       0.89      0.91      0.90       226\n",
      "\n",
      "   micro avg       0.81      0.63      0.71      1745\n",
      "   macro avg       0.61      0.48      0.50      1745\n",
      "weighted avg       0.77      0.63      0.65      1745\n",
      " samples avg       0.78      0.70      0.71      1745\n",
      "\n"
     ]
    },
    {
     "name": "stderr",
     "output_type": "stream",
     "text": [
      "/opt/anaconda3/envs/yotam-inf/lib/python3.8/site-packages/sklearn/metrics/_classification.py:1248: UndefinedMetricWarning: Precision is ill-defined and being set to 0.0 in labels with no predicted samples. Use `zero_division` parameter to control this behavior.\n",
      "  _warn_prf(average, modifier, msg_start, len(result))\n"
     ]
    },
    {
     "data": {
      "application/vnd.jupyter.widget-view+json": {
       "model_id": "8d44f282b96b4e1a90f5a69e0dfa5fcc",
       "version_major": 2,
       "version_minor": 0
      },
      "text/plain": [
       "Running Epoch 6 of 12:   0%|          | 0/157 [00:00<?, ?it/s]"
      ]
     },
     "metadata": {},
     "output_type": "display_data"
    },
    {
     "data": {
      "application/vnd.jupyter.widget-view+json": {
       "model_id": "19062c2e2eac497ea97a6480712294f6",
       "version_major": 2,
       "version_minor": 0
      },
      "text/plain": [
       "  0%|          | 0/883 [00:00<?, ?it/s]"
      ]
     },
     "metadata": {},
     "output_type": "display_data"
    },
    {
     "name": "stdout",
     "output_type": "stream",
     "text": [
      "              precision    recall  f1-score   support\n",
      "\n",
      "       anger       0.82      0.80      0.81       270\n",
      "anticipation       0.00      0.00      0.00        63\n",
      "     disgust       0.56      0.54      0.55       125\n",
      "        fear       0.88      0.59      0.71       110\n",
      "         joy       0.83      0.83      0.83       175\n",
      "        love       0.73      0.74      0.73       155\n",
      "    optimism       0.72      0.72      0.72       166\n",
      "   pessimism       0.60      0.04      0.07       156\n",
      "     sadness       0.76      0.80      0.78       254\n",
      "    surprise       0.00      0.00      0.00        10\n",
      "       trust       0.00      0.00      0.00        35\n",
      "     neutral       0.94      0.82      0.88       226\n",
      "\n",
      "   micro avg       0.79      0.64      0.71      1745\n",
      "   macro avg       0.57      0.49      0.51      1745\n",
      "weighted avg       0.73      0.64      0.66      1745\n",
      " samples avg       0.76      0.70      0.70      1745\n",
      "\n"
     ]
    },
    {
     "name": "stderr",
     "output_type": "stream",
     "text": [
      "/opt/anaconda3/envs/yotam-inf/lib/python3.8/site-packages/sklearn/metrics/_classification.py:1248: UndefinedMetricWarning: Precision is ill-defined and being set to 0.0 in labels with no predicted samples. Use `zero_division` parameter to control this behavior.\n",
      "  _warn_prf(average, modifier, msg_start, len(result))\n"
     ]
    },
    {
     "data": {
      "application/vnd.jupyter.widget-view+json": {
       "model_id": "a6eb13dd822047479a2c6d513d4c0ff1",
       "version_major": 2,
       "version_minor": 0
      },
      "text/plain": [
       "  0%|          | 0/883 [00:00<?, ?it/s]"
      ]
     },
     "metadata": {},
     "output_type": "display_data"
    },
    {
     "name": "stdout",
     "output_type": "stream",
     "text": [
      "              precision    recall  f1-score   support\n",
      "\n",
      "       anger       0.87      0.76      0.81       270\n",
      "anticipation       0.00      0.00      0.00        63\n",
      "     disgust       0.62      0.47      0.54       125\n",
      "        fear       0.86      0.60      0.71       110\n",
      "         joy       0.81      0.85      0.83       175\n",
      "        love       0.72      0.81      0.76       155\n",
      "    optimism       0.69      0.78      0.73       166\n",
      "   pessimism       1.00      0.01      0.01       156\n",
      "     sadness       0.86      0.67      0.75       254\n",
      "    surprise       0.00      0.00      0.00        10\n",
      "       trust       0.00      0.00      0.00        35\n",
      "     neutral       0.93      0.86      0.90       226\n",
      "\n",
      "   micro avg       0.81      0.63      0.71      1745\n",
      "   macro avg       0.61      0.48      0.50      1745\n",
      "weighted avg       0.78      0.63      0.66      1745\n",
      " samples avg       0.78      0.70      0.70      1745\n",
      "\n"
     ]
    },
    {
     "name": "stderr",
     "output_type": "stream",
     "text": [
      "/opt/anaconda3/envs/yotam-inf/lib/python3.8/site-packages/sklearn/metrics/_classification.py:1248: UndefinedMetricWarning: Precision is ill-defined and being set to 0.0 in labels with no predicted samples. Use `zero_division` parameter to control this behavior.\n",
      "  _warn_prf(average, modifier, msg_start, len(result))\n"
     ]
    },
    {
     "data": {
      "application/vnd.jupyter.widget-view+json": {
       "model_id": "2f8b13c941384997bd78364b170631d0",
       "version_major": 2,
       "version_minor": 0
      },
      "text/plain": [
       "Running Epoch 7 of 12:   0%|          | 0/157 [00:00<?, ?it/s]"
      ]
     },
     "metadata": {},
     "output_type": "display_data"
    },
    {
     "data": {
      "application/vnd.jupyter.widget-view+json": {
       "model_id": "dac0e607affd4d638e35cbad17fe9bc6",
       "version_major": 2,
       "version_minor": 0
      },
      "text/plain": [
       "  0%|          | 0/883 [00:00<?, ?it/s]"
      ]
     },
     "metadata": {},
     "output_type": "display_data"
    },
    {
     "name": "stdout",
     "output_type": "stream",
     "text": [
      "              precision    recall  f1-score   support\n",
      "\n",
      "       anger       0.84      0.80      0.82       270\n",
      "anticipation       0.00      0.00      0.00        63\n",
      "     disgust       0.55      0.65      0.60       125\n",
      "        fear       0.86      0.61      0.71       110\n",
      "         joy       0.83      0.84      0.84       175\n",
      "        love       0.72      0.77      0.75       155\n",
      "    optimism       0.72      0.73      0.73       166\n",
      "   pessimism       0.67      0.08      0.14       156\n",
      "     sadness       0.82      0.74      0.78       254\n",
      "    surprise       0.00      0.00      0.00        10\n",
      "       trust       0.00      0.00      0.00        35\n",
      "     neutral       0.93      0.86      0.89       226\n",
      "\n",
      "   micro avg       0.79      0.66      0.72      1745\n",
      "   macro avg       0.58      0.51      0.52      1745\n",
      "weighted avg       0.74      0.66      0.67      1745\n",
      " samples avg       0.77      0.72      0.71      1745\n",
      "\n"
     ]
    },
    {
     "name": "stderr",
     "output_type": "stream",
     "text": [
      "/opt/anaconda3/envs/yotam-inf/lib/python3.8/site-packages/sklearn/metrics/_classification.py:1248: UndefinedMetricWarning: Precision is ill-defined and being set to 0.0 in labels with no predicted samples. Use `zero_division` parameter to control this behavior.\n",
      "  _warn_prf(average, modifier, msg_start, len(result))\n"
     ]
    },
    {
     "data": {
      "application/vnd.jupyter.widget-view+json": {
       "model_id": "c238451a747a474780e1d7c0fee701ab",
       "version_major": 2,
       "version_minor": 0
      },
      "text/plain": [
       "  0%|          | 0/883 [00:00<?, ?it/s]"
      ]
     },
     "metadata": {},
     "output_type": "display_data"
    },
    {
     "name": "stdout",
     "output_type": "stream",
     "text": [
      "              precision    recall  f1-score   support\n",
      "\n",
      "       anger       0.89      0.75      0.81       270\n",
      "anticipation       0.00      0.00      0.00        63\n",
      "     disgust       0.61      0.46      0.53       125\n",
      "        fear       0.86      0.65      0.74       110\n",
      "         joy       0.81      0.85      0.83       175\n",
      "        love       0.72      0.79      0.75       155\n",
      "    optimism       0.69      0.77      0.73       166\n",
      "   pessimism       0.61      0.07      0.13       156\n",
      "     sadness       0.82      0.77      0.79       254\n",
      "    surprise       0.00      0.00      0.00        10\n",
      "       trust       0.00      0.00      0.00        35\n",
      "     neutral       0.92      0.86      0.89       226\n",
      "\n",
      "   micro avg       0.80      0.65      0.72      1745\n",
      "   macro avg       0.58      0.50      0.52      1745\n",
      "weighted avg       0.74      0.65      0.67      1745\n",
      " samples avg       0.78      0.71      0.72      1745\n",
      "\n"
     ]
    },
    {
     "name": "stderr",
     "output_type": "stream",
     "text": [
      "/opt/anaconda3/envs/yotam-inf/lib/python3.8/site-packages/sklearn/metrics/_classification.py:1248: UndefinedMetricWarning: Precision is ill-defined and being set to 0.0 in labels with no predicted samples. Use `zero_division` parameter to control this behavior.\n",
      "  _warn_prf(average, modifier, msg_start, len(result))\n"
     ]
    },
    {
     "data": {
      "application/vnd.jupyter.widget-view+json": {
       "model_id": "dc5cf0a397e04d419fc093428f603851",
       "version_major": 2,
       "version_minor": 0
      },
      "text/plain": [
       "  0%|          | 0/883 [00:00<?, ?it/s]"
      ]
     },
     "metadata": {},
     "output_type": "display_data"
    },
    {
     "name": "stdout",
     "output_type": "stream",
     "text": [
      "              precision    recall  f1-score   support\n",
      "\n",
      "       anger       0.88      0.76      0.81       270\n",
      "anticipation       0.00      0.00      0.00        63\n",
      "     disgust       0.60      0.50      0.55       125\n",
      "        fear       0.83      0.68      0.75       110\n",
      "         joy       0.83      0.85      0.84       175\n",
      "        love       0.72      0.79      0.76       155\n",
      "    optimism       0.71      0.77      0.74       166\n",
      "   pessimism       0.57      0.08      0.14       156\n",
      "     sadness       0.81      0.76      0.78       254\n",
      "    surprise       0.00      0.00      0.00        10\n",
      "       trust       0.00      0.00      0.00        35\n",
      "     neutral       0.92      0.88      0.90       226\n",
      "\n",
      "   micro avg       0.80      0.66      0.72      1745\n",
      "   macro avg       0.57      0.50      0.52      1745\n",
      "weighted avg       0.73      0.66      0.68      1745\n",
      " samples avg       0.79      0.72      0.72      1745\n",
      "\n"
     ]
    },
    {
     "name": "stderr",
     "output_type": "stream",
     "text": [
      "/opt/anaconda3/envs/yotam-inf/lib/python3.8/site-packages/sklearn/metrics/_classification.py:1248: UndefinedMetricWarning: Precision is ill-defined and being set to 0.0 in labels with no predicted samples. Use `zero_division` parameter to control this behavior.\n",
      "  _warn_prf(average, modifier, msg_start, len(result))\n"
     ]
    },
    {
     "data": {
      "application/vnd.jupyter.widget-view+json": {
       "model_id": "9a303516fd584429bf5d394d22679136",
       "version_major": 2,
       "version_minor": 0
      },
      "text/plain": [
       "Running Epoch 8 of 12:   0%|          | 0/157 [00:00<?, ?it/s]"
      ]
     },
     "metadata": {},
     "output_type": "display_data"
    },
    {
     "data": {
      "application/vnd.jupyter.widget-view+json": {
       "model_id": "ee9d2ce4c264485387fa39b0bd5d0949",
       "version_major": 2,
       "version_minor": 0
      },
      "text/plain": [
       "  0%|          | 0/883 [00:00<?, ?it/s]"
      ]
     },
     "metadata": {},
     "output_type": "display_data"
    },
    {
     "name": "stdout",
     "output_type": "stream",
     "text": [
      "              precision    recall  f1-score   support\n",
      "\n",
      "       anger       0.89      0.73      0.80       270\n",
      "anticipation       0.00      0.00      0.00        63\n",
      "     disgust       0.58      0.53      0.55       125\n",
      "        fear       0.83      0.65      0.73       110\n",
      "         joy       0.84      0.83      0.83       175\n",
      "        love       0.73      0.76      0.74       155\n",
      "    optimism       0.72      0.74      0.73       166\n",
      "   pessimism       0.47      0.04      0.08       156\n",
      "     sadness       0.84      0.69      0.75       254\n",
      "    surprise       0.00      0.00      0.00        10\n",
      "       trust       0.00      0.00      0.00        35\n",
      "     neutral       0.90      0.91      0.90       226\n",
      "\n",
      "   micro avg       0.80      0.64      0.71      1745\n",
      "   macro avg       0.57      0.49      0.51      1745\n",
      "weighted avg       0.73      0.64      0.66      1745\n",
      " samples avg       0.78      0.71      0.71      1745\n",
      "\n"
     ]
    },
    {
     "name": "stderr",
     "output_type": "stream",
     "text": [
      "/opt/anaconda3/envs/yotam-inf/lib/python3.8/site-packages/sklearn/metrics/_classification.py:1248: UndefinedMetricWarning: Precision is ill-defined and being set to 0.0 in labels with no predicted samples. Use `zero_division` parameter to control this behavior.\n",
      "  _warn_prf(average, modifier, msg_start, len(result))\n"
     ]
    },
    {
     "data": {
      "application/vnd.jupyter.widget-view+json": {
       "model_id": "68bd1fdca23c49d0b7b5f8ff8a387de1",
       "version_major": 2,
       "version_minor": 0
      },
      "text/plain": [
       "  0%|          | 0/883 [00:00<?, ?it/s]"
      ]
     },
     "metadata": {},
     "output_type": "display_data"
    },
    {
     "name": "stdout",
     "output_type": "stream",
     "text": [
      "              precision    recall  f1-score   support\n",
      "\n",
      "       anger       0.86      0.76      0.81       270\n",
      "anticipation       0.00      0.00      0.00        63\n",
      "     disgust       0.57      0.54      0.56       125\n",
      "        fear       0.82      0.68      0.75       110\n",
      "         joy       0.84      0.83      0.84       175\n",
      "        love       0.73      0.77      0.75       155\n",
      "    optimism       0.72      0.73      0.72       166\n",
      "   pessimism       0.62      0.15      0.24       156\n",
      "     sadness       0.79      0.79      0.79       254\n",
      "    surprise       0.00      0.00      0.00        10\n",
      "       trust       0.00      0.00      0.00        35\n",
      "     neutral       0.92      0.88      0.90       226\n",
      "\n",
      "   micro avg       0.79      0.66      0.72      1745\n",
      "   macro avg       0.57      0.51      0.53      1745\n",
      "weighted avg       0.73      0.66      0.68      1745\n",
      " samples avg       0.78      0.73      0.72      1745\n",
      "\n"
     ]
    },
    {
     "name": "stderr",
     "output_type": "stream",
     "text": [
      "/opt/anaconda3/envs/yotam-inf/lib/python3.8/site-packages/sklearn/metrics/_classification.py:1248: UndefinedMetricWarning: Precision is ill-defined and being set to 0.0 in labels with no predicted samples. Use `zero_division` parameter to control this behavior.\n",
      "  _warn_prf(average, modifier, msg_start, len(result))\n"
     ]
    },
    {
     "data": {
      "application/vnd.jupyter.widget-view+json": {
       "model_id": "a59a4bb3454a445f884d9df226f5a88a",
       "version_major": 2,
       "version_minor": 0
      },
      "text/plain": [
       "Running Epoch 9 of 12:   0%|          | 0/157 [00:00<?, ?it/s]"
      ]
     },
     "metadata": {},
     "output_type": "display_data"
    },
    {
     "data": {
      "application/vnd.jupyter.widget-view+json": {
       "model_id": "dae67e39d25a49a094ee807a076cdb66",
       "version_major": 2,
       "version_minor": 0
      },
      "text/plain": [
       "  0%|          | 0/883 [00:00<?, ?it/s]"
      ]
     },
     "metadata": {},
     "output_type": "display_data"
    },
    {
     "name": "stdout",
     "output_type": "stream",
     "text": [
      "              precision    recall  f1-score   support\n",
      "\n",
      "       anger       0.85      0.78      0.81       270\n",
      "anticipation       0.00      0.00      0.00        63\n",
      "     disgust       0.56      0.54      0.55       125\n",
      "        fear       0.85      0.61      0.71       110\n",
      "         joy       0.84      0.85      0.84       175\n",
      "        love       0.73      0.77      0.75       155\n",
      "    optimism       0.73      0.74      0.73       166\n",
      "   pessimism       0.61      0.09      0.16       156\n",
      "     sadness       0.81      0.76      0.78       254\n",
      "    surprise       0.00      0.00      0.00        10\n",
      "       trust       0.00      0.00      0.00        35\n",
      "     neutral       0.92      0.89      0.90       226\n",
      "\n",
      "   micro avg       0.80      0.65      0.72      1745\n",
      "   macro avg       0.57      0.50      0.52      1745\n",
      "weighted avg       0.73      0.65      0.68      1745\n",
      " samples avg       0.78      0.72      0.72      1745\n",
      "\n"
     ]
    },
    {
     "name": "stderr",
     "output_type": "stream",
     "text": [
      "/opt/anaconda3/envs/yotam-inf/lib/python3.8/site-packages/sklearn/metrics/_classification.py:1248: UndefinedMetricWarning: Precision is ill-defined and being set to 0.0 in labels with no predicted samples. Use `zero_division` parameter to control this behavior.\n",
      "  _warn_prf(average, modifier, msg_start, len(result))\n"
     ]
    },
    {
     "data": {
      "application/vnd.jupyter.widget-view+json": {
       "model_id": "972ad1d105274229b31672bef7e7cab8",
       "version_major": 2,
       "version_minor": 0
      },
      "text/plain": [
       "  0%|          | 0/883 [00:00<?, ?it/s]"
      ]
     },
     "metadata": {},
     "output_type": "display_data"
    },
    {
     "name": "stdout",
     "output_type": "stream",
     "text": [
      "              precision    recall  f1-score   support\n",
      "\n",
      "       anger       0.85      0.79      0.82       270\n",
      "anticipation       0.00      0.00      0.00        63\n",
      "     disgust       0.58      0.59      0.58       125\n",
      "        fear       0.85      0.65      0.73       110\n",
      "         joy       0.83      0.85      0.84       175\n",
      "        love       0.73      0.77      0.75       155\n",
      "    optimism       0.71      0.75      0.73       166\n",
      "   pessimism       0.69      0.13      0.22       156\n",
      "     sadness       0.82      0.73      0.77       254\n",
      "    surprise       0.00      0.00      0.00        10\n",
      "       trust       0.00      0.00      0.00        35\n",
      "     neutral       0.92      0.88      0.90       226\n",
      "\n",
      "   micro avg       0.79      0.66      0.72      1745\n",
      "   macro avg       0.58      0.51      0.53      1745\n",
      "weighted avg       0.74      0.66      0.68      1745\n",
      " samples avg       0.78      0.72      0.72      1745\n",
      "\n"
     ]
    },
    {
     "name": "stderr",
     "output_type": "stream",
     "text": [
      "/opt/anaconda3/envs/yotam-inf/lib/python3.8/site-packages/sklearn/metrics/_classification.py:1248: UndefinedMetricWarning: Precision is ill-defined and being set to 0.0 in labels with no predicted samples. Use `zero_division` parameter to control this behavior.\n",
      "  _warn_prf(average, modifier, msg_start, len(result))\n"
     ]
    },
    {
     "data": {
      "application/vnd.jupyter.widget-view+json": {
       "model_id": "428378a46aec4fe4b80174446e04b39b",
       "version_major": 2,
       "version_minor": 0
      },
      "text/plain": [
       "  0%|          | 0/883 [00:00<?, ?it/s]"
      ]
     },
     "metadata": {},
     "output_type": "display_data"
    },
    {
     "name": "stdout",
     "output_type": "stream",
     "text": [
      "              precision    recall  f1-score   support\n",
      "\n",
      "       anger       0.85      0.77      0.81       270\n",
      "anticipation       0.00      0.00      0.00        63\n",
      "     disgust       0.58      0.58      0.58       125\n",
      "        fear       0.84      0.64      0.73       110\n",
      "         joy       0.82      0.84      0.83       175\n",
      "        love       0.72      0.77      0.75       155\n",
      "    optimism       0.72      0.77      0.74       166\n",
      "   pessimism       0.64      0.12      0.20       156\n",
      "     sadness       0.81      0.76      0.79       254\n",
      "    surprise       0.00      0.00      0.00        10\n",
      "       trust       0.00      0.00      0.00        35\n",
      "     neutral       0.92      0.87      0.89       226\n",
      "\n",
      "   micro avg       0.79      0.66      0.72      1745\n",
      "   macro avg       0.58      0.51      0.53      1745\n",
      "weighted avg       0.74      0.66      0.68      1745\n",
      " samples avg       0.78      0.72      0.72      1745\n",
      "\n"
     ]
    },
    {
     "name": "stderr",
     "output_type": "stream",
     "text": [
      "/opt/anaconda3/envs/yotam-inf/lib/python3.8/site-packages/sklearn/metrics/_classification.py:1248: UndefinedMetricWarning: Precision is ill-defined and being set to 0.0 in labels with no predicted samples. Use `zero_division` parameter to control this behavior.\n",
      "  _warn_prf(average, modifier, msg_start, len(result))\n"
     ]
    },
    {
     "data": {
      "application/vnd.jupyter.widget-view+json": {
       "model_id": "da0c4add5d6c44bdbb7ee0a6c472b342",
       "version_major": 2,
       "version_minor": 0
      },
      "text/plain": [
       "Running Epoch 10 of 12:   0%|          | 0/157 [00:00<?, ?it/s]"
      ]
     },
     "metadata": {},
     "output_type": "display_data"
    },
    {
     "data": {
      "application/vnd.jupyter.widget-view+json": {
       "model_id": "5523ae6f6d8747519093b6ca96ad8d6a",
       "version_major": 2,
       "version_minor": 0
      },
      "text/plain": [
       "  0%|          | 0/883 [00:00<?, ?it/s]"
      ]
     },
     "metadata": {},
     "output_type": "display_data"
    },
    {
     "name": "stdout",
     "output_type": "stream",
     "text": [
      "              precision    recall  f1-score   support\n",
      "\n",
      "       anger       0.85      0.76      0.80       270\n",
      "anticipation       0.00      0.00      0.00        63\n",
      "     disgust       0.58      0.58      0.58       125\n",
      "        fear       0.85      0.65      0.74       110\n",
      "         joy       0.83      0.84      0.83       175\n",
      "        love       0.73      0.77      0.75       155\n",
      "    optimism       0.73      0.74      0.73       166\n",
      "   pessimism       0.67      0.15      0.25       156\n",
      "     sadness       0.79      0.77      0.78       254\n",
      "    surprise       0.00      0.00      0.00        10\n",
      "       trust       0.00      0.00      0.00        35\n",
      "     neutral       0.92      0.87      0.90       226\n",
      "\n",
      "   micro avg       0.79      0.66      0.72      1745\n",
      "   macro avg       0.58      0.51      0.53      1745\n",
      "weighted avg       0.74      0.66      0.68      1745\n",
      " samples avg       0.78      0.72      0.72      1745\n",
      "\n"
     ]
    },
    {
     "name": "stderr",
     "output_type": "stream",
     "text": [
      "/opt/anaconda3/envs/yotam-inf/lib/python3.8/site-packages/sklearn/metrics/_classification.py:1248: UndefinedMetricWarning: Precision is ill-defined and being set to 0.0 in labels with no predicted samples. Use `zero_division` parameter to control this behavior.\n",
      "  _warn_prf(average, modifier, msg_start, len(result))\n"
     ]
    },
    {
     "data": {
      "application/vnd.jupyter.widget-view+json": {
       "model_id": "d8ca2642687e4ce087895433e20c6e55",
       "version_major": 2,
       "version_minor": 0
      },
      "text/plain": [
       "  0%|          | 0/883 [00:00<?, ?it/s]"
      ]
     },
     "metadata": {},
     "output_type": "display_data"
    },
    {
     "name": "stdout",
     "output_type": "stream",
     "text": [
      "              precision    recall  f1-score   support\n",
      "\n",
      "       anger       0.85      0.76      0.80       270\n",
      "anticipation       0.00      0.00      0.00        63\n",
      "     disgust       0.58      0.58      0.58       125\n",
      "        fear       0.85      0.66      0.74       110\n",
      "         joy       0.82      0.84      0.83       175\n",
      "        love       0.73      0.77      0.75       155\n",
      "    optimism       0.73      0.75      0.74       166\n",
      "   pessimism       0.64      0.12      0.20       156\n",
      "     sadness       0.82      0.72      0.77       254\n",
      "    surprise       0.00      0.00      0.00        10\n",
      "       trust       0.00      0.00      0.00        35\n",
      "     neutral       0.92      0.88      0.90       226\n",
      "\n",
      "   micro avg       0.80      0.65      0.72      1745\n",
      "   macro avg       0.58      0.51      0.53      1745\n",
      "weighted avg       0.74      0.65      0.68      1745\n",
      " samples avg       0.78      0.72      0.72      1745\n",
      "\n"
     ]
    },
    {
     "name": "stderr",
     "output_type": "stream",
     "text": [
      "/opt/anaconda3/envs/yotam-inf/lib/python3.8/site-packages/sklearn/metrics/_classification.py:1248: UndefinedMetricWarning: Precision is ill-defined and being set to 0.0 in labels with no predicted samples. Use `zero_division` parameter to control this behavior.\n",
      "  _warn_prf(average, modifier, msg_start, len(result))\n"
     ]
    },
    {
     "data": {
      "application/vnd.jupyter.widget-view+json": {
       "model_id": "f8b2bca3f43b4d4891809484b61cf978",
       "version_major": 2,
       "version_minor": 0
      },
      "text/plain": [
       "Running Epoch 11 of 12:   0%|          | 0/157 [00:00<?, ?it/s]"
      ]
     },
     "metadata": {},
     "output_type": "display_data"
    },
    {
     "data": {
      "application/vnd.jupyter.widget-view+json": {
       "model_id": "4b2d1eab17274e998ccdddd13e8893c0",
       "version_major": 2,
       "version_minor": 0
      },
      "text/plain": [
       "  0%|          | 0/883 [00:00<?, ?it/s]"
      ]
     },
     "metadata": {},
     "output_type": "display_data"
    },
    {
     "name": "stdout",
     "output_type": "stream",
     "text": [
      "              precision    recall  f1-score   support\n",
      "\n",
      "       anger       0.85      0.76      0.80       270\n",
      "anticipation       0.00      0.00      0.00        63\n",
      "     disgust       0.57      0.54      0.56       125\n",
      "        fear       0.85      0.65      0.73       110\n",
      "         joy       0.82      0.84      0.83       175\n",
      "        love       0.72      0.77      0.74       155\n",
      "    optimism       0.73      0.75      0.74       166\n",
      "   pessimism       0.61      0.11      0.18       156\n",
      "     sadness       0.81      0.74      0.78       254\n",
      "    surprise       0.00      0.00      0.00        10\n",
      "       trust       0.00      0.00      0.00        35\n",
      "     neutral       0.92      0.89      0.91       226\n",
      "\n",
      "   micro avg       0.79      0.65      0.72      1745\n",
      "   macro avg       0.57      0.50      0.52      1745\n",
      "weighted avg       0.73      0.65      0.68      1745\n",
      " samples avg       0.78      0.72      0.72      1745\n",
      "\n"
     ]
    },
    {
     "name": "stderr",
     "output_type": "stream",
     "text": [
      "/opt/anaconda3/envs/yotam-inf/lib/python3.8/site-packages/sklearn/metrics/_classification.py:1248: UndefinedMetricWarning: Precision is ill-defined and being set to 0.0 in labels with no predicted samples. Use `zero_division` parameter to control this behavior.\n",
      "  _warn_prf(average, modifier, msg_start, len(result))\n"
     ]
    },
    {
     "data": {
      "application/vnd.jupyter.widget-view+json": {
       "model_id": "9978720077fb458182bccb9583d10618",
       "version_major": 2,
       "version_minor": 0
      },
      "text/plain": [
       "  0%|          | 0/883 [00:00<?, ?it/s]"
      ]
     },
     "metadata": {},
     "output_type": "display_data"
    },
    {
     "name": "stdout",
     "output_type": "stream",
     "text": [
      "              precision    recall  f1-score   support\n",
      "\n",
      "       anger       0.85      0.76      0.80       270\n",
      "anticipation       0.00      0.00      0.00        63\n",
      "     disgust       0.57      0.59      0.58       125\n",
      "        fear       0.85      0.66      0.74       110\n",
      "         joy       0.82      0.85      0.83       175\n",
      "        love       0.72      0.77      0.74       155\n",
      "    optimism       0.72      0.76      0.74       166\n",
      "   pessimism       0.69      0.15      0.25       156\n",
      "     sadness       0.82      0.74      0.77       254\n",
      "    surprise       0.00      0.00      0.00        10\n",
      "       trust       0.00      0.00      0.00        35\n",
      "     neutral       0.93      0.88      0.90       226\n",
      "\n",
      "   micro avg       0.79      0.66      0.72      1745\n",
      "   macro avg       0.58      0.51      0.53      1745\n",
      "weighted avg       0.74      0.66      0.68      1745\n",
      " samples avg       0.78      0.73      0.72      1745\n",
      "\n"
     ]
    },
    {
     "name": "stderr",
     "output_type": "stream",
     "text": [
      "/opt/anaconda3/envs/yotam-inf/lib/python3.8/site-packages/sklearn/metrics/_classification.py:1248: UndefinedMetricWarning: Precision is ill-defined and being set to 0.0 in labels with no predicted samples. Use `zero_division` parameter to control this behavior.\n",
      "  _warn_prf(average, modifier, msg_start, len(result))\n"
     ]
    },
    {
     "data": {
      "application/vnd.jupyter.widget-view+json": {
       "model_id": "9d175c413d7f498d8ac9d71c34c68eb9",
       "version_major": 2,
       "version_minor": 0
      },
      "text/plain": [
       "  0%|          | 0/883 [00:00<?, ?it/s]"
      ]
     },
     "metadata": {},
     "output_type": "display_data"
    },
    {
     "name": "stdout",
     "output_type": "stream",
     "text": [
      "              precision    recall  f1-score   support\n",
      "\n",
      "       anger       0.85      0.76      0.80       270\n",
      "anticipation       0.00      0.00      0.00        63\n",
      "     disgust       0.57      0.59      0.58       125\n",
      "        fear       0.85      0.66      0.74       110\n",
      "         joy       0.82      0.85      0.83       175\n",
      "        love       0.72      0.77      0.74       155\n",
      "    optimism       0.72      0.75      0.74       166\n",
      "   pessimism       0.69      0.15      0.25       156\n",
      "     sadness       0.82      0.74      0.77       254\n",
      "    surprise       0.00      0.00      0.00        10\n",
      "       trust       0.00      0.00      0.00        35\n",
      "     neutral       0.93      0.88      0.90       226\n",
      "\n",
      "   micro avg       0.79      0.66      0.72      1745\n",
      "   macro avg       0.58      0.51      0.53      1745\n",
      "weighted avg       0.74      0.66      0.68      1745\n",
      " samples avg       0.78      0.73      0.72      1745\n",
      "\n"
     ]
    },
    {
     "name": "stderr",
     "output_type": "stream",
     "text": [
      "/opt/anaconda3/envs/yotam-inf/lib/python3.8/site-packages/sklearn/metrics/_classification.py:1248: UndefinedMetricWarning: Precision is ill-defined and being set to 0.0 in labels with no predicted samples. Use `zero_division` parameter to control this behavior.\n",
      "  _warn_prf(average, modifier, msg_start, len(result))\n"
     ]
    }
   ],
   "source": [
    "train_12_labels = pd.read_csv(\"datasets/train_12_labels.csv\")\n",
    "test_12_labels = pd.read_csv(\"datasets/test_12_labels.csv\")\n",
    "labels = ['anger', 'anticipation', 'disgust', 'fear', 'joy', 'love',\n",
    "          'optimism', 'pessimism', 'sadness', 'surprise', 'trust', 'neutral']\n",
    "\n",
    "model = EmotionMultilabelClassificationModel(name_or_path=\"UBC-NLP/MARBERT\",emotion_list=labels)\n",
    "model.train(train_12_labels,test_12_labels,num_epochs=12,TSDAE_pretrainig=True,save_model_dir=\"multilabel_tsdae_12\")"
   ]
  },
  {
   "cell_type": "code",
   "execution_count": 5,
   "id": "86ae40db-171f-4415-9383-b471e86b399f",
   "metadata": {
    "tags": []
   },
   "outputs": [
    {
     "data": {
      "application/vnd.jupyter.widget-view+json": {
       "model_id": "49af4d09927a44eca622071e79747744",
       "version_major": 2,
       "version_minor": 0
      },
      "text/plain": [
       "  0%|          | 0/883 [00:00<?, ?it/s]"
      ]
     },
     "metadata": {},
     "output_type": "display_data"
    },
    {
     "data": {
      "application/vnd.jupyter.widget-view+json": {
       "model_id": "30afd3918cc54768840dd4d70cc1fe5b",
       "version_major": 2,
       "version_minor": 0
      },
      "text/plain": [
       "  0%|          | 0/7 [00:00<?, ?it/s]"
      ]
     },
     "metadata": {},
     "output_type": "display_data"
    },
    {
     "name": "stdout",
     "output_type": "stream",
     "text": [
      "              precision    recall  f1-score   support\n",
      "\n",
      "       anger       0.85      0.76      0.80       270\n",
      "anticipation       0.00      0.00      0.00        63\n",
      "     disgust       0.57      0.59      0.58       125\n",
      "        fear       0.85      0.66      0.74       110\n",
      "         joy       0.82      0.85      0.83       175\n",
      "        love       0.72      0.77      0.74       155\n",
      "    optimism       0.72      0.75      0.74       166\n",
      "   pessimism       0.69      0.15      0.25       156\n",
      "     sadness       0.82      0.74      0.77       254\n",
      "    surprise       0.00      0.00      0.00        10\n",
      "       trust       0.00      0.00      0.00        35\n",
      "     neutral       0.93      0.88      0.90       226\n",
      "\n",
      "   micro avg       0.79      0.66      0.72      1745\n",
      "   macro avg       0.58      0.51      0.53      1745\n",
      "weighted avg       0.74      0.66      0.68      1745\n",
      " samples avg       0.78      0.73      0.72      1745\n",
      "\n"
     ]
    }
   ],
   "source": [
    "eval_df = model.evaluate(test_12_labels)"
   ]
  },
  {
   "cell_type": "code",
   "execution_count": 7,
   "id": "89b11682-993d-43e7-9f61-230ed49d2972",
   "metadata": {},
   "outputs": [
    {
     "data": {
      "application/vnd.jupyter.widget-view+json": {
       "model_id": "55fa2cef75e44521860c1035b093bce9",
       "version_major": 2,
       "version_minor": 0
      },
      "text/plain": [
       "  0%|          | 0/2 [00:00<?, ?it/s]"
      ]
     },
     "metadata": {},
     "output_type": "display_data"
    },
    {
     "data": {
      "application/vnd.jupyter.widget-view+json": {
       "model_id": "22a1eb2531ce486fb9ed14622cffebf3",
       "version_major": 2,
       "version_minor": 0
      },
      "text/plain": [
       "  0%|          | 0/1 [00:00<?, ?it/s]"
      ]
     },
     "metadata": {},
     "output_type": "display_data"
    },
    {
     "data": {
      "text/html": [
       "<div>\n",
       "<style scoped>\n",
       "    .dataframe tbody tr th:only-of-type {\n",
       "        vertical-align: middle;\n",
       "    }\n",
       "\n",
       "    .dataframe tbody tr th {\n",
       "        vertical-align: top;\n",
       "    }\n",
       "\n",
       "    .dataframe thead th {\n",
       "        text-align: right;\n",
       "    }\n",
       "</style>\n",
       "<table border=\"1\" class=\"dataframe\">\n",
       "  <thead>\n",
       "    <tr style=\"text-align: right;\">\n",
       "      <th></th>\n",
       "      <th>anger</th>\n",
       "      <th>anticipation</th>\n",
       "      <th>disgust</th>\n",
       "      <th>fear</th>\n",
       "      <th>joy</th>\n",
       "      <th>love</th>\n",
       "      <th>optimism</th>\n",
       "      <th>pessimism</th>\n",
       "      <th>sadness</th>\n",
       "      <th>surprise</th>\n",
       "      <th>trust</th>\n",
       "      <th>neutral</th>\n",
       "      <th>pred_labels</th>\n",
       "      <th>clean_text</th>\n",
       "    </tr>\n",
       "  </thead>\n",
       "  <tbody>\n",
       "    <tr>\n",
       "      <th>0</th>\n",
       "      <td>0.841309</td>\n",
       "      <td>0.114197</td>\n",
       "      <td>0.406006</td>\n",
       "      <td>0.134155</td>\n",
       "      <td>0.041321</td>\n",
       "      <td>0.041687</td>\n",
       "      <td>0.042725</td>\n",
       "      <td>0.411621</td>\n",
       "      <td>0.704102</td>\n",
       "      <td>0.060089</td>\n",
       "      <td>0.050598</td>\n",
       "      <td>0.048950</td>\n",
       "      <td>anger, sadness</td>\n",
       "      <td>الناس ميتين جوع في ذمتكم الله لاسامحكم</td>\n",
       "    </tr>\n",
       "    <tr>\n",
       "      <th>1</th>\n",
       "      <td>0.070435</td>\n",
       "      <td>0.108398</td>\n",
       "      <td>0.066345</td>\n",
       "      <td>0.078247</td>\n",
       "      <td>0.857422</td>\n",
       "      <td>0.791504</td>\n",
       "      <td>0.788086</td>\n",
       "      <td>0.060760</td>\n",
       "      <td>0.063110</td>\n",
       "      <td>0.079895</td>\n",
       "      <td>0.154663</td>\n",
       "      <td>0.067688</td>\n",
       "      <td>joy, love, optimism</td>\n",
       "      <td>فوق ماهو # أمان يجمع كل شعور حلو</td>\n",
       "    </tr>\n",
       "  </tbody>\n",
       "</table>\n",
       "</div>"
      ],
      "text/plain": [
       "      anger  anticipation   disgust      fear       joy      love  optimism  \\\n",
       "0  0.841309      0.114197  0.406006  0.134155  0.041321  0.041687  0.042725   \n",
       "1  0.070435      0.108398  0.066345  0.078247  0.857422  0.791504  0.788086   \n",
       "\n",
       "   pessimism   sadness  surprise     trust   neutral          pred_labels  \\\n",
       "0   0.411621  0.704102  0.060089  0.050598  0.048950       anger, sadness   \n",
       "1   0.060760  0.063110  0.079895  0.154663  0.067688  joy, love, optimism   \n",
       "\n",
       "                               clean_text  \n",
       "0  الناس ميتين جوع في ذمتكم الله لاسامحكم  \n",
       "1        فوق ماهو # أمان يجمع كل شعور حلو  "
      ]
     },
     "execution_count": 7,
     "metadata": {},
     "output_type": "execute_result"
    }
   ],
   "source": [
    "tweets = ['الناس ميتين جوع في ذمتكم الله لاسامحكم',\n",
    "          'فوق ماهو #أمان يجمع كل شعور حلو']\n",
    "model.predict(tweets)"
   ]
  },
  {
   "cell_type": "code",
   "execution_count": null,
   "id": "34723f83-1251-4b15-a478-9dd7e63fc714",
   "metadata": {},
   "outputs": [],
   "source": []
  }
 ],
 "metadata": {
  "kernelspec": {
   "display_name": "Python 3",
   "language": "python",
   "name": "python3"
  },
  "language_info": {
   "codemirror_mode": {
    "name": "ipython",
    "version": 3
   },
   "file_extension": ".py",
   "mimetype": "text/x-python",
   "name": "python",
   "nbconvert_exporter": "python",
   "pygments_lexer": "ipython3",
   "version": "3.8.10"
  },
  "widgets": {
   "application/vnd.jupyter.widget-state+json": {
    "state": {},
    "version_major": 2,
    "version_minor": 0
   }
  }
 },
 "nbformat": 4,
 "nbformat_minor": 5
}
