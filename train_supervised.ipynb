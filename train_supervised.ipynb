{
 "cells": [
  {
   "cell_type": "code",
   "execution_count": 1,
   "id": "fdb6b600-a682-4b2a-8e75-af1ccd6ac447",
   "metadata": {},
   "outputs": [],
   "source": [
    "import os\n",
    "os.environ[\"CUDA_VISIBLE_DEVICES\"]='1' #\"0,1,2,3\"\n",
    "import pandas as pd\n",
    "from araemotion.MultiLabelClassificationModel import EmotionMultilabelClassificationModel\n",
    "%config Completer.use_jedi = False"
   ]
  },
  {
   "cell_type": "markdown",
   "id": "466f72ad-d0d3-474d-b70f-09bb921bb905",
   "metadata": {
    "tags": []
   },
   "source": [
    "### 6 labels"
   ]
  },
  {
   "cell_type": "code",
   "execution_count": 3,
   "id": "d6674498-6c51-4701-a26c-e410449477cb",
   "metadata": {
    "collapsed": true,
    "jupyter": {
     "outputs_hidden": true
    },
    "tags": []
   },
   "outputs": [
    {
     "name": "stdout",
     "output_type": "stream",
     "text": [
      "loading model from UBC-NLP/MARBERT...\n"
     ]
    },
    {
     "name": "stderr",
     "output_type": "stream",
     "text": [
      "Some weights of the model checkpoint at UBC-NLP/MARBERT were not used when initializing BertForMultiLabelSequenceClassification: ['cls.predictions.bias', 'cls.predictions.transform.dense.weight', 'cls.predictions.transform.dense.bias', 'cls.seq_relationship.bias', 'cls.predictions.decoder.weight', 'cls.predictions.transform.LayerNorm.bias', 'cls.seq_relationship.weight', 'cls.predictions.transform.LayerNorm.weight']\n",
      "- This IS expected if you are initializing BertForMultiLabelSequenceClassification from the checkpoint of a model trained on another task or with another architecture (e.g. initializing a BertForSequenceClassification model from a BertForPreTraining model).\n",
      "- This IS NOT expected if you are initializing BertForMultiLabelSequenceClassification from the checkpoint of a model that you expect to be exactly identical (initializing a BertForSequenceClassification model from a BertForSequenceClassification model).\n",
      "Some weights of BertForMultiLabelSequenceClassification were not initialized from the model checkpoint at UBC-NLP/MARBERT and are newly initialized: ['classifier.weight', 'classifier.bias']\n",
      "You should probably TRAIN this model on a down-stream task to be able to use it for predictions and inference.\n"
     ]
    },
    {
     "name": "stdout",
     "output_type": "stream",
     "text": [
      "Calculating weights...\n",
      "           weight\n",
      "anger    2.421198\n",
      "disgust  5.809589\n",
      "fear     6.419403\n",
      "joy      2.518047\n",
      "sadness  1.915543\n",
      "neutral  2.826790\n"
     ]
    },
    {
     "data": {
      "application/vnd.jupyter.widget-view+json": {
       "model_id": "8bdb125e2e1942c78919fb80f6ccb8a1",
       "version_major": 2,
       "version_minor": 0
      },
      "text/plain": [
       "  0%|          | 0/4971 [00:00<?, ?it/s]"
      ]
     },
     "metadata": {},
     "output_type": "display_data"
    },
    {
     "data": {
      "application/vnd.jupyter.widget-view+json": {
       "model_id": "be7159a44a094e7a86a3cc94fcf48681",
       "version_major": 2,
       "version_minor": 0
      },
      "text/plain": [
       "Epoch:   0%|          | 0/6 [00:00<?, ?it/s]"
      ]
     },
     "metadata": {},
     "output_type": "display_data"
    },
    {
     "data": {
      "application/vnd.jupyter.widget-view+json": {
       "model_id": "6e5a360527074e7d9a19a3c395c09eb3",
       "version_major": 2,
       "version_minor": 0
      },
      "text/plain": [
       "Running Epoch 0 of 6:   0%|          | 0/156 [00:00<?, ?it/s]"
      ]
     },
     "metadata": {},
     "output_type": "display_data"
    },
    {
     "data": {
      "application/vnd.jupyter.widget-view+json": {
       "model_id": "1808228a5b004407a83f703ad1fe2fee",
       "version_major": 2,
       "version_minor": 0
      },
      "text/plain": [
       "  0%|          | 0/877 [00:00<?, ?it/s]"
      ]
     },
     "metadata": {},
     "output_type": "display_data"
    },
    {
     "name": "stdout",
     "output_type": "stream",
     "text": [
      "              precision    recall  f1-score   support\n",
      "\n",
      "       anger       0.00      0.00      0.00       270\n",
      "     disgust       0.00      0.00      0.00       125\n",
      "        fear       0.00      0.00      0.00       110\n",
      "         joy       0.00      0.00      0.00       252\n",
      "     sadness       0.86      0.12      0.22       304\n",
      "     neutral       0.96      0.60      0.74       226\n",
      "\n",
      "   micro avg       0.94      0.14      0.24      1287\n",
      "   macro avg       0.30      0.12      0.16      1287\n",
      "weighted avg       0.37      0.14      0.18      1287\n",
      " samples avg       0.20      0.18      0.19      1287\n",
      "\n"
     ]
    },
    {
     "name": "stderr",
     "output_type": "stream",
     "text": [
      "/opt/anaconda3/envs/yotam-inf/lib/python3.8/site-packages/sklearn/metrics/_classification.py:1248: UndefinedMetricWarning: Precision is ill-defined and being set to 0.0 in labels with no predicted samples. Use `zero_division` parameter to control this behavior.\n",
      "  _warn_prf(average, modifier, msg_start, len(result))\n"
     ]
    },
    {
     "data": {
      "application/vnd.jupyter.widget-view+json": {
       "model_id": "6a71ec66814e448e80732d2a857e6d72",
       "version_major": 2,
       "version_minor": 0
      },
      "text/plain": [
       "  0%|          | 0/877 [00:00<?, ?it/s]"
      ]
     },
     "metadata": {},
     "output_type": "display_data"
    },
    {
     "name": "stdout",
     "output_type": "stream",
     "text": [
      "              precision    recall  f1-score   support\n",
      "\n",
      "       anger       0.84      0.60      0.70       270\n",
      "     disgust       0.00      0.00      0.00       125\n",
      "        fear       0.00      0.00      0.00       110\n",
      "         joy       0.92      0.67      0.77       252\n",
      "     sadness       0.64      0.77      0.70       304\n",
      "     neutral       0.94      0.73      0.83       226\n",
      "\n",
      "   micro avg       0.80      0.57      0.66      1287\n",
      "   macro avg       0.56      0.46      0.50      1287\n",
      "weighted avg       0.67      0.57      0.61      1287\n",
      " samples avg       0.69      0.62      0.64      1287\n",
      "\n"
     ]
    },
    {
     "name": "stderr",
     "output_type": "stream",
     "text": [
      "/opt/anaconda3/envs/yotam-inf/lib/python3.8/site-packages/sklearn/metrics/_classification.py:1248: UndefinedMetricWarning: Precision is ill-defined and being set to 0.0 in labels with no predicted samples. Use `zero_division` parameter to control this behavior.\n",
      "  _warn_prf(average, modifier, msg_start, len(result))\n"
     ]
    },
    {
     "data": {
      "application/vnd.jupyter.widget-view+json": {
       "model_id": "ac7e5631bdd34185a24869f871717442",
       "version_major": 2,
       "version_minor": 0
      },
      "text/plain": [
       "Running Epoch 1 of 6:   0%|          | 0/156 [00:00<?, ?it/s]"
      ]
     },
     "metadata": {},
     "output_type": "display_data"
    },
    {
     "data": {
      "application/vnd.jupyter.widget-view+json": {
       "model_id": "86e55c8c005f46cdb235b0816d50abe2",
       "version_major": 2,
       "version_minor": 0
      },
      "text/plain": [
       "  0%|          | 0/877 [00:00<?, ?it/s]"
      ]
     },
     "metadata": {},
     "output_type": "display_data"
    },
    {
     "name": "stdout",
     "output_type": "stream",
     "text": [
      "              precision    recall  f1-score   support\n",
      "\n",
      "       anger       0.77      0.74      0.75       270\n",
      "     disgust       0.80      0.06      0.12       125\n",
      "        fear       0.00      0.00      0.00       110\n",
      "         joy       0.93      0.69      0.79       252\n",
      "     sadness       0.66      0.71      0.69       304\n",
      "     neutral       0.89      0.82      0.86       226\n",
      "\n",
      "   micro avg       0.79      0.61      0.69      1287\n",
      "   macro avg       0.68      0.51      0.53      1287\n",
      "weighted avg       0.73      0.61      0.64      1287\n",
      " samples avg       0.73      0.67      0.68      1287\n",
      "\n"
     ]
    },
    {
     "name": "stderr",
     "output_type": "stream",
     "text": [
      "/opt/anaconda3/envs/yotam-inf/lib/python3.8/site-packages/sklearn/metrics/_classification.py:1248: UndefinedMetricWarning: Precision is ill-defined and being set to 0.0 in labels with no predicted samples. Use `zero_division` parameter to control this behavior.\n",
      "  _warn_prf(average, modifier, msg_start, len(result))\n"
     ]
    },
    {
     "data": {
      "application/vnd.jupyter.widget-view+json": {
       "model_id": "d249b008006d470daed1c6d67d018e76",
       "version_major": 2,
       "version_minor": 0
      },
      "text/plain": [
       "  0%|          | 0/877 [00:00<?, ?it/s]"
      ]
     },
     "metadata": {},
     "output_type": "display_data"
    },
    {
     "name": "stdout",
     "output_type": "stream",
     "text": [
      "              precision    recall  f1-score   support\n",
      "\n",
      "       anger       0.83      0.71      0.76       270\n",
      "     disgust       0.66      0.30      0.41       125\n",
      "        fear       0.00      0.00      0.00       110\n",
      "         joy       0.86      0.77      0.81       252\n",
      "     sadness       0.70      0.75      0.72       304\n",
      "     neutral       0.88      0.85      0.86       226\n",
      "\n",
      "   micro avg       0.80      0.65      0.72      1287\n",
      "   macro avg       0.65      0.56      0.59      1287\n",
      "weighted avg       0.73      0.65      0.68      1287\n",
      " samples avg       0.77      0.71      0.72      1287\n",
      "\n"
     ]
    },
    {
     "name": "stderr",
     "output_type": "stream",
     "text": [
      "/opt/anaconda3/envs/yotam-inf/lib/python3.8/site-packages/sklearn/metrics/_classification.py:1248: UndefinedMetricWarning: Precision is ill-defined and being set to 0.0 in labels with no predicted samples. Use `zero_division` parameter to control this behavior.\n",
      "  _warn_prf(average, modifier, msg_start, len(result))\n"
     ]
    },
    {
     "data": {
      "application/vnd.jupyter.widget-view+json": {
       "model_id": "239ce2e37eb04aa788f1aba54139a49a",
       "version_major": 2,
       "version_minor": 0
      },
      "text/plain": [
       "  0%|          | 0/877 [00:00<?, ?it/s]"
      ]
     },
     "metadata": {},
     "output_type": "display_data"
    },
    {
     "name": "stdout",
     "output_type": "stream",
     "text": [
      "              precision    recall  f1-score   support\n",
      "\n",
      "       anger       0.85      0.69      0.76       270\n",
      "     disgust       0.69      0.30      0.41       125\n",
      "        fear       0.00      0.00      0.00       110\n",
      "         joy       0.87      0.76      0.81       252\n",
      "     sadness       0.71      0.74      0.72       304\n",
      "     neutral       0.86      0.85      0.86       226\n",
      "\n",
      "   micro avg       0.80      0.65      0.72      1287\n",
      "   macro avg       0.66      0.56      0.59      1287\n",
      "weighted avg       0.73      0.65      0.68      1287\n",
      " samples avg       0.78      0.71      0.72      1287\n",
      "\n"
     ]
    },
    {
     "name": "stderr",
     "output_type": "stream",
     "text": [
      "/opt/anaconda3/envs/yotam-inf/lib/python3.8/site-packages/sklearn/metrics/_classification.py:1248: UndefinedMetricWarning: Precision is ill-defined and being set to 0.0 in labels with no predicted samples. Use `zero_division` parameter to control this behavior.\n",
      "  _warn_prf(average, modifier, msg_start, len(result))\n"
     ]
    },
    {
     "data": {
      "application/vnd.jupyter.widget-view+json": {
       "model_id": "be51043c83bf44dd9fabd7c31a2216bb",
       "version_major": 2,
       "version_minor": 0
      },
      "text/plain": [
       "Running Epoch 2 of 6:   0%|          | 0/156 [00:00<?, ?it/s]"
      ]
     },
     "metadata": {},
     "output_type": "display_data"
    },
    {
     "data": {
      "application/vnd.jupyter.widget-view+json": {
       "model_id": "308981f63a2c4690ad3fe9da90e948ea",
       "version_major": 2,
       "version_minor": 0
      },
      "text/plain": [
       "  0%|          | 0/877 [00:00<?, ?it/s]"
      ]
     },
     "metadata": {},
     "output_type": "display_data"
    },
    {
     "name": "stdout",
     "output_type": "stream",
     "text": [
      "              precision    recall  f1-score   support\n",
      "\n",
      "       anger       0.86      0.68      0.76       270\n",
      "     disgust       0.62      0.40      0.49       125\n",
      "        fear       0.00      0.00      0.00       110\n",
      "         joy       0.90      0.75      0.82       252\n",
      "     sadness       0.66      0.83      0.74       304\n",
      "     neutral       0.87      0.85      0.86       226\n",
      "\n",
      "   micro avg       0.79      0.67      0.72      1287\n",
      "   macro avg       0.65      0.58      0.61      1287\n",
      "weighted avg       0.73      0.67      0.69      1287\n",
      " samples avg       0.78      0.73      0.73      1287\n",
      "\n"
     ]
    },
    {
     "name": "stderr",
     "output_type": "stream",
     "text": [
      "/opt/anaconda3/envs/yotam-inf/lib/python3.8/site-packages/sklearn/metrics/_classification.py:1248: UndefinedMetricWarning: Precision is ill-defined and being set to 0.0 in labels with no predicted samples. Use `zero_division` parameter to control this behavior.\n",
      "  _warn_prf(average, modifier, msg_start, len(result))\n"
     ]
    },
    {
     "data": {
      "application/vnd.jupyter.widget-view+json": {
       "model_id": "c470848e6133484f9a88039df7b0383c",
       "version_major": 2,
       "version_minor": 0
      },
      "text/plain": [
       "  0%|          | 0/877 [00:00<?, ?it/s]"
      ]
     },
     "metadata": {},
     "output_type": "display_data"
    },
    {
     "name": "stdout",
     "output_type": "stream",
     "text": [
      "              precision    recall  f1-score   support\n",
      "\n",
      "       anger       0.85      0.76      0.80       270\n",
      "     disgust       0.57      0.50      0.54       125\n",
      "        fear       1.00      0.03      0.05       110\n",
      "         joy       0.87      0.80      0.83       252\n",
      "     sadness       0.69      0.81      0.74       304\n",
      "     neutral       0.90      0.86      0.88       226\n",
      "\n",
      "   micro avg       0.79      0.71      0.75      1287\n",
      "   macro avg       0.81      0.63      0.64      1287\n",
      "weighted avg       0.81      0.71      0.72      1287\n",
      " samples avg       0.79      0.76      0.76      1287\n",
      "\n"
     ]
    },
    {
     "data": {
      "application/vnd.jupyter.widget-view+json": {
       "model_id": "c1c0fc831bef419bb964555bd8d8be65",
       "version_major": 2,
       "version_minor": 0
      },
      "text/plain": [
       "Running Epoch 3 of 6:   0%|          | 0/156 [00:00<?, ?it/s]"
      ]
     },
     "metadata": {},
     "output_type": "display_data"
    },
    {
     "data": {
      "application/vnd.jupyter.widget-view+json": {
       "model_id": "249a2b3c1746487b95e861d69bac84cc",
       "version_major": 2,
       "version_minor": 0
      },
      "text/plain": [
       "  0%|          | 0/877 [00:00<?, ?it/s]"
      ]
     },
     "metadata": {},
     "output_type": "display_data"
    },
    {
     "name": "stdout",
     "output_type": "stream",
     "text": [
      "              precision    recall  f1-score   support\n",
      "\n",
      "       anger       0.81      0.84      0.82       270\n",
      "     disgust       0.56      0.59      0.58       125\n",
      "        fear       1.00      0.06      0.12       110\n",
      "         joy       0.93      0.74      0.83       252\n",
      "     sadness       0.70      0.85      0.77       304\n",
      "     neutral       0.93      0.83      0.88       226\n",
      "\n",
      "   micro avg       0.79      0.73      0.76      1287\n",
      "   macro avg       0.82      0.65      0.67      1287\n",
      "weighted avg       0.82      0.73      0.74      1287\n",
      " samples avg       0.81      0.78      0.77      1287\n",
      "\n"
     ]
    },
    {
     "data": {
      "application/vnd.jupyter.widget-view+json": {
       "model_id": "c8cd723d6db1447f95ef251b2fec7492",
       "version_major": 2,
       "version_minor": 0
      },
      "text/plain": [
       "  0%|          | 0/877 [00:00<?, ?it/s]"
      ]
     },
     "metadata": {},
     "output_type": "display_data"
    },
    {
     "name": "stdout",
     "output_type": "stream",
     "text": [
      "              precision    recall  f1-score   support\n",
      "\n",
      "       anger       0.86      0.76      0.81       270\n",
      "     disgust       0.56      0.50      0.53       125\n",
      "        fear       0.93      0.25      0.39       110\n",
      "         joy       0.89      0.76      0.82       252\n",
      "     sadness       0.71      0.83      0.76       304\n",
      "     neutral       0.88      0.87      0.87       226\n",
      "\n",
      "   micro avg       0.80      0.73      0.76      1287\n",
      "   macro avg       0.81      0.66      0.70      1287\n",
      "weighted avg       0.81      0.73      0.75      1287\n",
      " samples avg       0.81      0.78      0.77      1287\n",
      "\n"
     ]
    },
    {
     "data": {
      "application/vnd.jupyter.widget-view+json": {
       "model_id": "7442e3b24d2449bca7e076b755494de7",
       "version_major": 2,
       "version_minor": 0
      },
      "text/plain": [
       "  0%|          | 0/877 [00:00<?, ?it/s]"
      ]
     },
     "metadata": {},
     "output_type": "display_data"
    },
    {
     "name": "stdout",
     "output_type": "stream",
     "text": [
      "              precision    recall  f1-score   support\n",
      "\n",
      "       anger       0.87      0.74      0.80       270\n",
      "     disgust       0.56      0.50      0.53       125\n",
      "        fear       0.96      0.25      0.39       110\n",
      "         joy       0.89      0.78      0.83       252\n",
      "     sadness       0.72      0.82      0.76       304\n",
      "     neutral       0.87      0.87      0.87       226\n",
      "\n",
      "   micro avg       0.80      0.72      0.76      1287\n",
      "   macro avg       0.81      0.66      0.70      1287\n",
      "weighted avg       0.82      0.72      0.75      1287\n",
      " samples avg       0.81      0.78      0.77      1287\n",
      "\n"
     ]
    },
    {
     "data": {
      "application/vnd.jupyter.widget-view+json": {
       "model_id": "5a28abd99377417f8639d1a4912ecd86",
       "version_major": 2,
       "version_minor": 0
      },
      "text/plain": [
       "Running Epoch 4 of 6:   0%|          | 0/156 [00:00<?, ?it/s]"
      ]
     },
     "metadata": {},
     "output_type": "display_data"
    },
    {
     "data": {
      "application/vnd.jupyter.widget-view+json": {
       "model_id": "a17337478d24412e92c3f3c7a43b707d",
       "version_major": 2,
       "version_minor": 0
      },
      "text/plain": [
       "  0%|          | 0/877 [00:00<?, ?it/s]"
      ]
     },
     "metadata": {},
     "output_type": "display_data"
    },
    {
     "name": "stdout",
     "output_type": "stream",
     "text": [
      "              precision    recall  f1-score   support\n",
      "\n",
      "       anger       0.87      0.76      0.81       270\n",
      "     disgust       0.57      0.53      0.55       125\n",
      "        fear       0.90      0.40      0.55       110\n",
      "         joy       0.87      0.78      0.82       252\n",
      "     sadness       0.70      0.85      0.77       304\n",
      "     neutral       0.89      0.86      0.88       226\n",
      "\n",
      "   micro avg       0.80      0.75      0.77      1287\n",
      "   macro avg       0.80      0.70      0.73      1287\n",
      "weighted avg       0.81      0.75      0.77      1287\n",
      " samples avg       0.81      0.80      0.79      1287\n",
      "\n"
     ]
    },
    {
     "data": {
      "application/vnd.jupyter.widget-view+json": {
       "model_id": "71625eca42754c53bc0dbbcff2b0caed",
       "version_major": 2,
       "version_minor": 0
      },
      "text/plain": [
       "  0%|          | 0/877 [00:00<?, ?it/s]"
      ]
     },
     "metadata": {},
     "output_type": "display_data"
    },
    {
     "name": "stdout",
     "output_type": "stream",
     "text": [
      "              precision    recall  f1-score   support\n",
      "\n",
      "       anger       0.86      0.77      0.82       270\n",
      "     disgust       0.57      0.55      0.56       125\n",
      "        fear       0.90      0.34      0.49       110\n",
      "         joy       0.89      0.76      0.82       252\n",
      "     sadness       0.71      0.83      0.77       304\n",
      "     neutral       0.89      0.86      0.88       226\n",
      "\n",
      "   micro avg       0.80      0.74      0.77      1287\n",
      "   macro avg       0.80      0.69      0.72      1287\n",
      "weighted avg       0.81      0.74      0.76      1287\n",
      " samples avg       0.81      0.79      0.78      1287\n",
      "\n"
     ]
    },
    {
     "data": {
      "application/vnd.jupyter.widget-view+json": {
       "model_id": "2d21d6c50c2744fea53f7233bf85418c",
       "version_major": 2,
       "version_minor": 0
      },
      "text/plain": [
       "Running Epoch 5 of 6:   0%|          | 0/156 [00:00<?, ?it/s]"
      ]
     },
     "metadata": {},
     "output_type": "display_data"
    },
    {
     "data": {
      "application/vnd.jupyter.widget-view+json": {
       "model_id": "d0eb595070ab4724abb0d5ba8dacaffd",
       "version_major": 2,
       "version_minor": 0
      },
      "text/plain": [
       "  0%|          | 0/877 [00:00<?, ?it/s]"
      ]
     },
     "metadata": {},
     "output_type": "display_data"
    },
    {
     "name": "stdout",
     "output_type": "stream",
     "text": [
      "              precision    recall  f1-score   support\n",
      "\n",
      "       anger       0.86      0.76      0.81       270\n",
      "     disgust       0.57      0.54      0.56       125\n",
      "        fear       0.89      0.45      0.59       110\n",
      "         joy       0.88      0.79      0.83       252\n",
      "     sadness       0.71      0.84      0.77       304\n",
      "     neutral       0.90      0.87      0.88       226\n",
      "\n",
      "   micro avg       0.80      0.75      0.78      1287\n",
      "   macro avg       0.80      0.71      0.74      1287\n",
      "weighted avg       0.81      0.75      0.77      1287\n",
      " samples avg       0.81      0.80      0.79      1287\n",
      "\n"
     ]
    },
    {
     "data": {
      "application/vnd.jupyter.widget-view+json": {
       "model_id": "1ec2f05c12344edd861023744f897c9b",
       "version_major": 2,
       "version_minor": 0
      },
      "text/plain": [
       "  0%|          | 0/877 [00:00<?, ?it/s]"
      ]
     },
     "metadata": {},
     "output_type": "display_data"
    },
    {
     "name": "stdout",
     "output_type": "stream",
     "text": [
      "              precision    recall  f1-score   support\n",
      "\n",
      "       anger       0.87      0.77      0.81       270\n",
      "     disgust       0.57      0.54      0.56       125\n",
      "        fear       0.89      0.45      0.59       110\n",
      "         joy       0.88      0.79      0.83       252\n",
      "     sadness       0.71      0.85      0.77       304\n",
      "     neutral       0.90      0.86      0.88       226\n",
      "\n",
      "   micro avg       0.80      0.76      0.78      1287\n",
      "   macro avg       0.80      0.71      0.74      1287\n",
      "weighted avg       0.81      0.76      0.78      1287\n",
      " samples avg       0.81      0.80      0.79      1287\n",
      "\n"
     ]
    },
    {
     "data": {
      "application/vnd.jupyter.widget-view+json": {
       "model_id": "cd795a2aa4a9462a870d6001054ae84e",
       "version_major": 2,
       "version_minor": 0
      },
      "text/plain": [
       "  0%|          | 0/877 [00:00<?, ?it/s]"
      ]
     },
     "metadata": {},
     "output_type": "display_data"
    },
    {
     "name": "stdout",
     "output_type": "stream",
     "text": [
      "              precision    recall  f1-score   support\n",
      "\n",
      "       anger       0.87      0.77      0.81       270\n",
      "     disgust       0.57      0.54      0.56       125\n",
      "        fear       0.89      0.45      0.59       110\n",
      "         joy       0.88      0.79      0.83       252\n",
      "     sadness       0.71      0.85      0.77       304\n",
      "     neutral       0.90      0.86      0.88       226\n",
      "\n",
      "   micro avg       0.80      0.76      0.78      1287\n",
      "   macro avg       0.80      0.71      0.74      1287\n",
      "weighted avg       0.81      0.76      0.78      1287\n",
      " samples avg       0.81      0.80      0.79      1287\n",
      "\n"
     ]
    }
   ],
   "source": [
    "train_6_labels = pd.read_csv(\"datasets/train_6_labels.csv\")\n",
    "test_6_labels = pd.read_csv(\"datasets/test_6_labels.csv\")\n",
    "\n",
    "labels = ['anger', 'disgust', 'fear', 'joy', 'sadness', 'neutral']\n",
    "model = EmotionMultilabelClassificationModel(name_or_path=\"UBC-NLP/MARBERT\",emotion_list=labels)\n",
    "model.train(train_6_labels,test_6_labels,num_epochs=6,TSDAE_pretrainig=False,save_model_dir=\"multilabel_6\")"
   ]
  },
  {
   "cell_type": "code",
   "execution_count": 4,
   "id": "095d598d-c805-41bf-8dd4-a8e238592d2a",
   "metadata": {},
   "outputs": [
    {
     "data": {
      "application/vnd.jupyter.widget-view+json": {
       "model_id": "9b443d7eacd44e90885a919b6f566980",
       "version_major": 2,
       "version_minor": 0
      },
      "text/plain": [
       "  0%|          | 0/877 [00:00<?, ?it/s]"
      ]
     },
     "metadata": {},
     "output_type": "display_data"
    },
    {
     "data": {
      "application/vnd.jupyter.widget-view+json": {
       "model_id": "521dfd56b9bb4b09b3ee55196f7c1628",
       "version_major": 2,
       "version_minor": 0
      },
      "text/plain": [
       "  0%|          | 0/7 [00:00<?, ?it/s]"
      ]
     },
     "metadata": {},
     "output_type": "display_data"
    },
    {
     "name": "stdout",
     "output_type": "stream",
     "text": [
      "              precision    recall  f1-score   support\n",
      "\n",
      "       anger       0.87      0.77      0.81       270\n",
      "     disgust       0.57      0.54      0.56       125\n",
      "        fear       0.89      0.45      0.59       110\n",
      "         joy       0.88      0.79      0.83       252\n",
      "     sadness       0.71      0.85      0.77       304\n",
      "     neutral       0.90      0.86      0.88       226\n",
      "\n",
      "   micro avg       0.80      0.76      0.78      1287\n",
      "   macro avg       0.80      0.71      0.74      1287\n",
      "weighted avg       0.81      0.76      0.78      1287\n",
      " samples avg       0.81      0.80      0.79      1287\n",
      "\n"
     ]
    }
   ],
   "source": [
    "eval_df = model.evaluate(test_6_labels)"
   ]
  },
  {
   "cell_type": "code",
   "execution_count": 5,
   "id": "71af0e62-ffc2-4af5-a7cd-8550a7193a6e",
   "metadata": {},
   "outputs": [
    {
     "data": {
      "application/vnd.jupyter.widget-view+json": {
       "model_id": "01fd3c274c034b6d8b8a32f78a115c27",
       "version_major": 2,
       "version_minor": 0
      },
      "text/plain": [
       "  0%|          | 0/2 [00:00<?, ?it/s]"
      ]
     },
     "metadata": {},
     "output_type": "display_data"
    },
    {
     "data": {
      "application/vnd.jupyter.widget-view+json": {
       "model_id": "fc6575d7acd34b6cb9715c4f58662b0b",
       "version_major": 2,
       "version_minor": 0
      },
      "text/plain": [
       "  0%|          | 0/1 [00:00<?, ?it/s]"
      ]
     },
     "metadata": {},
     "output_type": "display_data"
    },
    {
     "data": {
      "text/html": [
       "<div>\n",
       "<style scoped>\n",
       "    .dataframe tbody tr th:only-of-type {\n",
       "        vertical-align: middle;\n",
       "    }\n",
       "\n",
       "    .dataframe tbody tr th {\n",
       "        vertical-align: top;\n",
       "    }\n",
       "\n",
       "    .dataframe thead th {\n",
       "        text-align: right;\n",
       "    }\n",
       "</style>\n",
       "<table border=\"1\" class=\"dataframe\">\n",
       "  <thead>\n",
       "    <tr style=\"text-align: right;\">\n",
       "      <th></th>\n",
       "      <th>anger</th>\n",
       "      <th>disgust</th>\n",
       "      <th>fear</th>\n",
       "      <th>joy</th>\n",
       "      <th>sadness</th>\n",
       "      <th>neutral</th>\n",
       "      <th>pred_labels</th>\n",
       "      <th>clean_text</th>\n",
       "    </tr>\n",
       "  </thead>\n",
       "  <tbody>\n",
       "    <tr>\n",
       "      <th>0</th>\n",
       "      <td>0.813477</td>\n",
       "      <td>0.345215</td>\n",
       "      <td>0.189087</td>\n",
       "      <td>0.070190</td>\n",
       "      <td>0.645996</td>\n",
       "      <td>0.066833</td>\n",
       "      <td>anger, sadness</td>\n",
       "      <td>الناس ميتين جوع في ذمتكم الله لاسامحكم</td>\n",
       "    </tr>\n",
       "    <tr>\n",
       "      <th>1</th>\n",
       "      <td>0.102844</td>\n",
       "      <td>0.076660</td>\n",
       "      <td>0.108948</td>\n",
       "      <td>0.874023</td>\n",
       "      <td>0.141602</td>\n",
       "      <td>0.116150</td>\n",
       "      <td>joy</td>\n",
       "      <td>فوق ماهو # أمان يجمع كل شعور حلو</td>\n",
       "    </tr>\n",
       "  </tbody>\n",
       "</table>\n",
       "</div>"
      ],
      "text/plain": [
       "      anger   disgust      fear       joy   sadness   neutral     pred_labels  \\\n",
       "0  0.813477  0.345215  0.189087  0.070190  0.645996  0.066833  anger, sadness   \n",
       "1  0.102844  0.076660  0.108948  0.874023  0.141602  0.116150             joy   \n",
       "\n",
       "                               clean_text  \n",
       "0  الناس ميتين جوع في ذمتكم الله لاسامحكم  \n",
       "1        فوق ماهو # أمان يجمع كل شعور حلو  "
      ]
     },
     "execution_count": 5,
     "metadata": {},
     "output_type": "execute_result"
    }
   ],
   "source": [
    "tweets = ['الناس ميتين جوع في ذمتكم الله لاسامحكم',\n",
    "          'فوق ماهو #أمان يجمع كل شعور حلو']\n",
    "model.predict(tweets)"
   ]
  },
  {
   "cell_type": "markdown",
   "id": "391f7f33-6ec8-4f81-93c4-b3292610855e",
   "metadata": {
    "tags": [],
    "toc-hr-collapsed": true
   },
   "source": [
    "### 12 labels"
   ]
  },
  {
   "cell_type": "code",
   "execution_count": 6,
   "id": "d03fe8c4-8401-43b6-a827-281f133b6fd9",
   "metadata": {
    "collapsed": true,
    "jupyter": {
     "outputs_hidden": true
    },
    "tags": []
   },
   "outputs": [
    {
     "name": "stdout",
     "output_type": "stream",
     "text": [
      "loading model from UBC-NLP/MARBERT...\n"
     ]
    },
    {
     "name": "stderr",
     "output_type": "stream",
     "text": [
      "Some weights of the model checkpoint at UBC-NLP/MARBERT were not used when initializing BertForMultiLabelSequenceClassification: ['cls.predictions.bias', 'cls.predictions.transform.dense.weight', 'cls.predictions.transform.dense.bias', 'cls.seq_relationship.bias', 'cls.predictions.decoder.weight', 'cls.predictions.transform.LayerNorm.bias', 'cls.seq_relationship.weight', 'cls.predictions.transform.LayerNorm.weight']\n",
      "- This IS expected if you are initializing BertForMultiLabelSequenceClassification from the checkpoint of a model trained on another task or with another architecture (e.g. initializing a BertForSequenceClassification model from a BertForPreTraining model).\n",
      "- This IS NOT expected if you are initializing BertForMultiLabelSequenceClassification from the checkpoint of a model that you expect to be exactly identical (initializing a BertForSequenceClassification model from a BertForSequenceClassification model).\n",
      "Some weights of BertForMultiLabelSequenceClassification were not initialized from the model checkpoint at UBC-NLP/MARBERT and are newly initialized: ['classifier.weight', 'classifier.bias']\n",
      "You should probably TRAIN this model on a down-stream task to be able to use it for predictions and inference.\n"
     ]
    },
    {
     "name": "stdout",
     "output_type": "stream",
     "text": [
      "Calculating weights...\n",
      "                 weight\n",
      "anger          2.439780\n",
      "anticipation  12.960894\n",
      "disgust        5.846575\n",
      "fear           6.459701\n",
      "joy            3.988024\n",
      "love           4.266596\n",
      "optimism       4.504405\n",
      "pessimism      4.914793\n",
      "sadness        2.611272\n",
      "surprise      55.795455\n",
      "trust         24.242424\n",
      "neutral        2.847575\n"
     ]
    },
    {
     "data": {
      "application/vnd.jupyter.widget-view+json": {
       "model_id": "4f25e44829484da3b16b486ccfe71881",
       "version_major": 2,
       "version_minor": 0
      },
      "text/plain": [
       "  0%|          | 0/4998 [00:00<?, ?it/s]"
      ]
     },
     "metadata": {},
     "output_type": "display_data"
    },
    {
     "data": {
      "application/vnd.jupyter.widget-view+json": {
       "model_id": "b2927050a3274b2c84ceb6b3ed837eae",
       "version_major": 2,
       "version_minor": 0
      },
      "text/plain": [
       "Epoch:   0%|          | 0/6 [00:00<?, ?it/s]"
      ]
     },
     "metadata": {},
     "output_type": "display_data"
    },
    {
     "data": {
      "application/vnd.jupyter.widget-view+json": {
       "model_id": "5fe6f0e9b706401e832af23ec03a1c93",
       "version_major": 2,
       "version_minor": 0
      },
      "text/plain": [
       "Running Epoch 0 of 6:   0%|          | 0/157 [00:00<?, ?it/s]"
      ]
     },
     "metadata": {},
     "output_type": "display_data"
    },
    {
     "data": {
      "application/vnd.jupyter.widget-view+json": {
       "model_id": "324ae70a6210422798beee28d5a140e4",
       "version_major": 2,
       "version_minor": 0
      },
      "text/plain": [
       "  0%|          | 0/883 [00:00<?, ?it/s]"
      ]
     },
     "metadata": {},
     "output_type": "display_data"
    },
    {
     "name": "stdout",
     "output_type": "stream",
     "text": [
      "              precision    recall  f1-score   support\n",
      "\n",
      "       anger       0.00      0.00      0.00       270\n",
      "anticipation       0.00      0.00      0.00        63\n",
      "     disgust       0.00      0.00      0.00       125\n",
      "        fear       0.00      0.00      0.00       110\n",
      "         joy       0.00      0.00      0.00       175\n",
      "        love       0.00      0.00      0.00       155\n",
      "    optimism       0.00      0.00      0.00       166\n",
      "   pessimism       0.00      0.00      0.00       156\n",
      "     sadness       0.00      0.00      0.00       254\n",
      "    surprise       0.00      0.00      0.00        10\n",
      "       trust       0.00      0.00      0.00        35\n",
      "     neutral       0.00      0.00      0.00       226\n",
      "\n",
      "   micro avg       0.00      0.00      0.00      1745\n",
      "   macro avg       0.00      0.00      0.00      1745\n",
      "weighted avg       0.00      0.00      0.00      1745\n",
      " samples avg       0.00      0.00      0.00      1745\n",
      "\n"
     ]
    },
    {
     "name": "stderr",
     "output_type": "stream",
     "text": [
      "/opt/anaconda3/envs/yotam-inf/lib/python3.8/site-packages/sklearn/metrics/_classification.py:1248: UndefinedMetricWarning: Precision is ill-defined and being set to 0.0 in labels with no predicted samples. Use `zero_division` parameter to control this behavior.\n",
      "  _warn_prf(average, modifier, msg_start, len(result))\n"
     ]
    },
    {
     "data": {
      "application/vnd.jupyter.widget-view+json": {
       "model_id": "196b8a9251fd43cb974fb0e637b80dd5",
       "version_major": 2,
       "version_minor": 0
      },
      "text/plain": [
       "  0%|          | 0/883 [00:00<?, ?it/s]"
      ]
     },
     "metadata": {},
     "output_type": "display_data"
    },
    {
     "name": "stdout",
     "output_type": "stream",
     "text": [
      "              precision    recall  f1-score   support\n",
      "\n",
      "       anger       0.00      0.00      0.00       270\n",
      "anticipation       0.00      0.00      0.00        63\n",
      "     disgust       0.00      0.00      0.00       125\n",
      "        fear       0.00      0.00      0.00       110\n",
      "         joy       1.00      0.26      0.41       175\n",
      "        love       0.85      0.37      0.52       155\n",
      "    optimism       0.81      0.42      0.55       166\n",
      "   pessimism       0.00      0.00      0.00       156\n",
      "     sadness       0.00      0.00      0.00       254\n",
      "    surprise       0.00      0.00      0.00        10\n",
      "       trust       0.00      0.00      0.00        35\n",
      "     neutral       0.00      0.00      0.00       226\n",
      "\n",
      "   micro avg       0.87      0.10      0.18      1745\n",
      "   macro avg       0.22      0.09      0.12      1745\n",
      "weighted avg       0.25      0.10      0.14      1745\n",
      " samples avg       0.08      0.07      0.07      1745\n",
      "\n"
     ]
    },
    {
     "name": "stderr",
     "output_type": "stream",
     "text": [
      "/opt/anaconda3/envs/yotam-inf/lib/python3.8/site-packages/sklearn/metrics/_classification.py:1248: UndefinedMetricWarning: Precision is ill-defined and being set to 0.0 in labels with no predicted samples. Use `zero_division` parameter to control this behavior.\n",
      "  _warn_prf(average, modifier, msg_start, len(result))\n"
     ]
    },
    {
     "data": {
      "application/vnd.jupyter.widget-view+json": {
       "model_id": "d4c47fa2caeb413793687261e927a73f",
       "version_major": 2,
       "version_minor": 0
      },
      "text/plain": [
       "Running Epoch 1 of 6:   0%|          | 0/157 [00:00<?, ?it/s]"
      ]
     },
     "metadata": {},
     "output_type": "display_data"
    },
    {
     "data": {
      "application/vnd.jupyter.widget-view+json": {
       "model_id": "3a2cd8c8a66540cb8261fb0b9bfda01a",
       "version_major": 2,
       "version_minor": 0
      },
      "text/plain": [
       "  0%|          | 0/883 [00:00<?, ?it/s]"
      ]
     },
     "metadata": {},
     "output_type": "display_data"
    },
    {
     "name": "stdout",
     "output_type": "stream",
     "text": [
      "              precision    recall  f1-score   support\n",
      "\n",
      "       anger       0.88      0.40      0.55       270\n",
      "anticipation       0.00      0.00      0.00        63\n",
      "     disgust       0.00      0.00      0.00       125\n",
      "        fear       0.00      0.00      0.00       110\n",
      "         joy       0.93      0.57      0.71       175\n",
      "        love       0.83      0.62      0.71       155\n",
      "    optimism       0.79      0.44      0.57       166\n",
      "   pessimism       0.00      0.00      0.00       156\n",
      "     sadness       0.77      0.04      0.07       254\n",
      "    surprise       0.00      0.00      0.00        10\n",
      "       trust       0.00      0.00      0.00        35\n",
      "     neutral       1.00      0.23      0.37       226\n",
      "\n",
      "   micro avg       0.87      0.25      0.39      1745\n",
      "   macro avg       0.43      0.19      0.25      1745\n",
      "weighted avg       0.62      0.25      0.33      1745\n",
      " samples avg       0.30      0.24      0.25      1745\n",
      "\n"
     ]
    },
    {
     "name": "stderr",
     "output_type": "stream",
     "text": [
      "/opt/anaconda3/envs/yotam-inf/lib/python3.8/site-packages/sklearn/metrics/_classification.py:1248: UndefinedMetricWarning: Precision is ill-defined and being set to 0.0 in labels with no predicted samples. Use `zero_division` parameter to control this behavior.\n",
      "  _warn_prf(average, modifier, msg_start, len(result))\n"
     ]
    },
    {
     "data": {
      "application/vnd.jupyter.widget-view+json": {
       "model_id": "9fa1059887324e75bf4f0643fc4e7819",
       "version_major": 2,
       "version_minor": 0
      },
      "text/plain": [
       "  0%|          | 0/883 [00:00<?, ?it/s]"
      ]
     },
     "metadata": {},
     "output_type": "display_data"
    },
    {
     "name": "stdout",
     "output_type": "stream",
     "text": [
      "              precision    recall  f1-score   support\n",
      "\n",
      "       anger       0.77      0.76      0.76       270\n",
      "anticipation       0.00      0.00      0.00        63\n",
      "     disgust       0.00      0.00      0.00       125\n",
      "        fear       0.00      0.00      0.00       110\n",
      "         joy       0.86      0.75      0.80       175\n",
      "        love       0.73      0.73      0.73       155\n",
      "    optimism       0.76      0.64      0.69       166\n",
      "   pessimism       0.00      0.00      0.00       156\n",
      "     sadness       0.79      0.63      0.70       254\n",
      "    surprise       0.00      0.00      0.00        10\n",
      "       trust       0.00      0.00      0.00        35\n",
      "     neutral       0.99      0.71      0.82       226\n",
      "\n",
      "   micro avg       0.81      0.50      0.62      1745\n",
      "   macro avg       0.41      0.35      0.38      1745\n",
      "weighted avg       0.59      0.50      0.54      1745\n",
      " samples avg       0.69      0.55      0.58      1745\n",
      "\n"
     ]
    },
    {
     "name": "stderr",
     "output_type": "stream",
     "text": [
      "/opt/anaconda3/envs/yotam-inf/lib/python3.8/site-packages/sklearn/metrics/_classification.py:1248: UndefinedMetricWarning: Precision is ill-defined and being set to 0.0 in labels with no predicted samples. Use `zero_division` parameter to control this behavior.\n",
      "  _warn_prf(average, modifier, msg_start, len(result))\n"
     ]
    },
    {
     "data": {
      "application/vnd.jupyter.widget-view+json": {
       "model_id": "9df1655ea5104974a3c94146461ebfa0",
       "version_major": 2,
       "version_minor": 0
      },
      "text/plain": [
       "  0%|          | 0/883 [00:00<?, ?it/s]"
      ]
     },
     "metadata": {},
     "output_type": "display_data"
    },
    {
     "name": "stdout",
     "output_type": "stream",
     "text": [
      "              precision    recall  f1-score   support\n",
      "\n",
      "       anger       0.77      0.77      0.77       270\n",
      "anticipation       0.00      0.00      0.00        63\n",
      "     disgust       0.00      0.00      0.00       125\n",
      "        fear       0.00      0.00      0.00       110\n",
      "         joy       0.88      0.73      0.79       175\n",
      "        love       0.74      0.71      0.73       155\n",
      "    optimism       0.76      0.61      0.68       166\n",
      "   pessimism       0.00      0.00      0.00       156\n",
      "     sadness       0.79      0.66      0.72       254\n",
      "    surprise       0.00      0.00      0.00        10\n",
      "       trust       0.00      0.00      0.00        35\n",
      "     neutral       0.99      0.72      0.83       226\n",
      "\n",
      "   micro avg       0.82      0.50      0.62      1745\n",
      "   macro avg       0.41      0.35      0.38      1745\n",
      "weighted avg       0.59      0.50      0.54      1745\n",
      " samples avg       0.70      0.55      0.58      1745\n",
      "\n"
     ]
    },
    {
     "name": "stderr",
     "output_type": "stream",
     "text": [
      "/opt/anaconda3/envs/yotam-inf/lib/python3.8/site-packages/sklearn/metrics/_classification.py:1248: UndefinedMetricWarning: Precision is ill-defined and being set to 0.0 in labels with no predicted samples. Use `zero_division` parameter to control this behavior.\n",
      "  _warn_prf(average, modifier, msg_start, len(result))\n"
     ]
    },
    {
     "data": {
      "application/vnd.jupyter.widget-view+json": {
       "model_id": "4e801c5c635b4efbb6005c39c6642f79",
       "version_major": 2,
       "version_minor": 0
      },
      "text/plain": [
       "Running Epoch 2 of 6:   0%|          | 0/157 [00:00<?, ?it/s]"
      ]
     },
     "metadata": {},
     "output_type": "display_data"
    },
    {
     "data": {
      "application/vnd.jupyter.widget-view+json": {
       "model_id": "8c746de0223c499db094912039435a9b",
       "version_major": 2,
       "version_minor": 0
      },
      "text/plain": [
       "  0%|          | 0/883 [00:00<?, ?it/s]"
      ]
     },
     "metadata": {},
     "output_type": "display_data"
    },
    {
     "name": "stdout",
     "output_type": "stream",
     "text": [
      "              precision    recall  f1-score   support\n",
      "\n",
      "       anger       0.83      0.66      0.74       270\n",
      "anticipation       0.00      0.00      0.00        63\n",
      "     disgust       0.00      0.00      0.00       125\n",
      "        fear       0.00      0.00      0.00       110\n",
      "         joy       0.83      0.79      0.81       175\n",
      "        love       0.72      0.76      0.74       155\n",
      "    optimism       0.77      0.67      0.72       166\n",
      "   pessimism       0.00      0.00      0.00       156\n",
      "     sadness       0.82      0.59      0.68       254\n",
      "    surprise       0.00      0.00      0.00        10\n",
      "       trust       0.00      0.00      0.00        35\n",
      "     neutral       0.95      0.81      0.88       226\n",
      "\n",
      "   micro avg       0.82      0.50      0.63      1745\n",
      "   macro avg       0.41      0.36      0.38      1745\n",
      "weighted avg       0.59      0.50      0.54      1745\n",
      " samples avg       0.70      0.57      0.59      1745\n",
      "\n"
     ]
    },
    {
     "name": "stderr",
     "output_type": "stream",
     "text": [
      "/opt/anaconda3/envs/yotam-inf/lib/python3.8/site-packages/sklearn/metrics/_classification.py:1248: UndefinedMetricWarning: Precision is ill-defined and being set to 0.0 in labels with no predicted samples. Use `zero_division` parameter to control this behavior.\n",
      "  _warn_prf(average, modifier, msg_start, len(result))\n"
     ]
    },
    {
     "data": {
      "application/vnd.jupyter.widget-view+json": {
       "model_id": "8191e83e303441b59676268002d82f5d",
       "version_major": 2,
       "version_minor": 0
      },
      "text/plain": [
       "  0%|          | 0/883 [00:00<?, ?it/s]"
      ]
     },
     "metadata": {},
     "output_type": "display_data"
    },
    {
     "name": "stdout",
     "output_type": "stream",
     "text": [
      "              precision    recall  f1-score   support\n",
      "\n",
      "       anger       0.81      0.71      0.76       270\n",
      "anticipation       0.00      0.00      0.00        63\n",
      "     disgust       0.00      0.00      0.00       125\n",
      "        fear       0.00      0.00      0.00       110\n",
      "         joy       0.82      0.79      0.81       175\n",
      "        love       0.72      0.76      0.74       155\n",
      "    optimism       0.76      0.69      0.72       166\n",
      "   pessimism       0.00      0.00      0.00       156\n",
      "     sadness       0.83      0.56      0.67       254\n",
      "    surprise       0.00      0.00      0.00        10\n",
      "       trust       0.00      0.00      0.00        35\n",
      "     neutral       0.94      0.82      0.88       226\n",
      "\n",
      "   micro avg       0.82      0.51      0.63      1745\n",
      "   macro avg       0.41      0.36      0.38      1745\n",
      "weighted avg       0.59      0.51      0.54      1745\n",
      " samples avg       0.71      0.58      0.60      1745\n",
      "\n"
     ]
    },
    {
     "name": "stderr",
     "output_type": "stream",
     "text": [
      "/opt/anaconda3/envs/yotam-inf/lib/python3.8/site-packages/sklearn/metrics/_classification.py:1248: UndefinedMetricWarning: Precision is ill-defined and being set to 0.0 in labels with no predicted samples. Use `zero_division` parameter to control this behavior.\n",
      "  _warn_prf(average, modifier, msg_start, len(result))\n"
     ]
    },
    {
     "data": {
      "application/vnd.jupyter.widget-view+json": {
       "model_id": "d83166703acf4ffaa01d79da243a6f95",
       "version_major": 2,
       "version_minor": 0
      },
      "text/plain": [
       "Running Epoch 3 of 6:   0%|          | 0/157 [00:00<?, ?it/s]"
      ]
     },
     "metadata": {},
     "output_type": "display_data"
    },
    {
     "data": {
      "application/vnd.jupyter.widget-view+json": {
       "model_id": "c03f8ea151b64f91ac94f349f507382e",
       "version_major": 2,
       "version_minor": 0
      },
      "text/plain": [
       "  0%|          | 0/883 [00:00<?, ?it/s]"
      ]
     },
     "metadata": {},
     "output_type": "display_data"
    },
    {
     "name": "stdout",
     "output_type": "stream",
     "text": [
      "              precision    recall  f1-score   support\n",
      "\n",
      "       anger       0.86      0.68      0.76       270\n",
      "anticipation       0.00      0.00      0.00        63\n",
      "     disgust       0.84      0.17      0.28       125\n",
      "        fear       0.00      0.00      0.00       110\n",
      "         joy       0.83      0.80      0.82       175\n",
      "        love       0.71      0.77      0.74       155\n",
      "    optimism       0.73      0.70      0.72       166\n",
      "   pessimism       0.00      0.00      0.00       156\n",
      "     sadness       0.75      0.74      0.74       254\n",
      "    surprise       0.00      0.00      0.00        10\n",
      "       trust       0.00      0.00      0.00        35\n",
      "     neutral       0.94      0.81      0.87       226\n",
      "\n",
      "   micro avg       0.81      0.55      0.65      1745\n",
      "   macro avg       0.47      0.39      0.41      1745\n",
      "weighted avg       0.64      0.55      0.57      1745\n",
      " samples avg       0.72      0.61      0.63      1745\n",
      "\n"
     ]
    },
    {
     "name": "stderr",
     "output_type": "stream",
     "text": [
      "/opt/anaconda3/envs/yotam-inf/lib/python3.8/site-packages/sklearn/metrics/_classification.py:1248: UndefinedMetricWarning: Precision is ill-defined and being set to 0.0 in labels with no predicted samples. Use `zero_division` parameter to control this behavior.\n",
      "  _warn_prf(average, modifier, msg_start, len(result))\n"
     ]
    },
    {
     "data": {
      "application/vnd.jupyter.widget-view+json": {
       "model_id": "4de0b27eabd840429208ec0936a8199c",
       "version_major": 2,
       "version_minor": 0
      },
      "text/plain": [
       "  0%|          | 0/883 [00:00<?, ?it/s]"
      ]
     },
     "metadata": {},
     "output_type": "display_data"
    },
    {
     "name": "stdout",
     "output_type": "stream",
     "text": [
      "              precision    recall  f1-score   support\n",
      "\n",
      "       anger       0.81      0.74      0.77       270\n",
      "anticipation       0.00      0.00      0.00        63\n",
      "     disgust       0.83      0.19      0.31       125\n",
      "        fear       0.00      0.00      0.00       110\n",
      "         joy       0.80      0.83      0.81       175\n",
      "        love       0.71      0.79      0.75       155\n",
      "    optimism       0.72      0.73      0.72       166\n",
      "   pessimism       0.00      0.00      0.00       156\n",
      "     sadness       0.77      0.69      0.73       254\n",
      "    surprise       0.00      0.00      0.00        10\n",
      "       trust       0.00      0.00      0.00        35\n",
      "     neutral       0.95      0.81      0.88       226\n",
      "\n",
      "   micro avg       0.80      0.56      0.66      1745\n",
      "   macro avg       0.47      0.40      0.41      1745\n",
      "weighted avg       0.63      0.56      0.58      1745\n",
      " samples avg       0.74      0.62      0.64      1745\n",
      "\n"
     ]
    },
    {
     "name": "stderr",
     "output_type": "stream",
     "text": [
      "/opt/anaconda3/envs/yotam-inf/lib/python3.8/site-packages/sklearn/metrics/_classification.py:1248: UndefinedMetricWarning: Precision is ill-defined and being set to 0.0 in labels with no predicted samples. Use `zero_division` parameter to control this behavior.\n",
      "  _warn_prf(average, modifier, msg_start, len(result))\n"
     ]
    },
    {
     "data": {
      "application/vnd.jupyter.widget-view+json": {
       "model_id": "a8b14044f1e342f4aa8039804d4cb045",
       "version_major": 2,
       "version_minor": 0
      },
      "text/plain": [
       "  0%|          | 0/883 [00:00<?, ?it/s]"
      ]
     },
     "metadata": {},
     "output_type": "display_data"
    },
    {
     "name": "stdout",
     "output_type": "stream",
     "text": [
      "              precision    recall  f1-score   support\n",
      "\n",
      "       anger       0.81      0.76      0.79       270\n",
      "anticipation       0.00      0.00      0.00        63\n",
      "     disgust       0.82      0.18      0.30       125\n",
      "        fear       0.00      0.00      0.00       110\n",
      "         joy       0.82      0.81      0.81       175\n",
      "        love       0.71      0.79      0.75       155\n",
      "    optimism       0.73      0.70      0.72       166\n",
      "   pessimism       0.00      0.00      0.00       156\n",
      "     sadness       0.77      0.70      0.73       254\n",
      "    surprise       0.00      0.00      0.00        10\n",
      "       trust       0.00      0.00      0.00        35\n",
      "     neutral       0.94      0.82      0.88       226\n",
      "\n",
      "   micro avg       0.80      0.56      0.66      1745\n",
      "   macro avg       0.47      0.40      0.41      1745\n",
      "weighted avg       0.63      0.56      0.58      1745\n",
      " samples avg       0.74      0.62      0.64      1745\n",
      "\n"
     ]
    },
    {
     "name": "stderr",
     "output_type": "stream",
     "text": [
      "/opt/anaconda3/envs/yotam-inf/lib/python3.8/site-packages/sklearn/metrics/_classification.py:1248: UndefinedMetricWarning: Precision is ill-defined and being set to 0.0 in labels with no predicted samples. Use `zero_division` parameter to control this behavior.\n",
      "  _warn_prf(average, modifier, msg_start, len(result))\n"
     ]
    },
    {
     "data": {
      "application/vnd.jupyter.widget-view+json": {
       "model_id": "27d71345bf304215a6401b46eee7bc7f",
       "version_major": 2,
       "version_minor": 0
      },
      "text/plain": [
       "Running Epoch 4 of 6:   0%|          | 0/157 [00:00<?, ?it/s]"
      ]
     },
     "metadata": {},
     "output_type": "display_data"
    },
    {
     "data": {
      "application/vnd.jupyter.widget-view+json": {
       "model_id": "68de8d475a284a5d95ee0548c647e865",
       "version_major": 2,
       "version_minor": 0
      },
      "text/plain": [
       "  0%|          | 0/883 [00:00<?, ?it/s]"
      ]
     },
     "metadata": {},
     "output_type": "display_data"
    },
    {
     "name": "stdout",
     "output_type": "stream",
     "text": [
      "              precision    recall  f1-score   support\n",
      "\n",
      "       anger       0.85      0.71      0.78       270\n",
      "anticipation       0.00      0.00      0.00        63\n",
      "     disgust       0.76      0.27      0.40       125\n",
      "        fear       0.00      0.00      0.00       110\n",
      "         joy       0.82      0.82      0.82       175\n",
      "        love       0.71      0.79      0.75       155\n",
      "    optimism       0.73      0.71      0.72       166\n",
      "   pessimism       0.00      0.00      0.00       156\n",
      "     sadness       0.75      0.73      0.74       254\n",
      "    surprise       0.00      0.00      0.00        10\n",
      "       trust       0.00      0.00      0.00        35\n",
      "     neutral       0.93      0.82      0.87       226\n",
      "\n",
      "   micro avg       0.80      0.56      0.66      1745\n",
      "   macro avg       0.46      0.40      0.42      1745\n",
      "weighted avg       0.63      0.56      0.59      1745\n",
      " samples avg       0.73      0.62      0.64      1745\n",
      "\n"
     ]
    },
    {
     "name": "stderr",
     "output_type": "stream",
     "text": [
      "/opt/anaconda3/envs/yotam-inf/lib/python3.8/site-packages/sklearn/metrics/_classification.py:1248: UndefinedMetricWarning: Precision is ill-defined and being set to 0.0 in labels with no predicted samples. Use `zero_division` parameter to control this behavior.\n",
      "  _warn_prf(average, modifier, msg_start, len(result))\n"
     ]
    },
    {
     "data": {
      "application/vnd.jupyter.widget-view+json": {
       "model_id": "8b07d9371d67437db5daffbdbe4abeb4",
       "version_major": 2,
       "version_minor": 0
      },
      "text/plain": [
       "  0%|          | 0/883 [00:00<?, ?it/s]"
      ]
     },
     "metadata": {},
     "output_type": "display_data"
    },
    {
     "name": "stdout",
     "output_type": "stream",
     "text": [
      "              precision    recall  f1-score   support\n",
      "\n",
      "       anger       0.83      0.73      0.78       270\n",
      "anticipation       0.00      0.00      0.00        63\n",
      "     disgust       0.75      0.34      0.46       125\n",
      "        fear       0.00      0.00      0.00       110\n",
      "         joy       0.80      0.83      0.81       175\n",
      "        love       0.70      0.79      0.75       155\n",
      "    optimism       0.72      0.73      0.72       166\n",
      "   pessimism       0.00      0.00      0.00       156\n",
      "     sadness       0.77      0.68      0.72       254\n",
      "    surprise       0.00      0.00      0.00        10\n",
      "       trust       0.00      0.00      0.00        35\n",
      "     neutral       0.91      0.85      0.87       226\n",
      "\n",
      "   micro avg       0.79      0.57      0.66      1745\n",
      "   macro avg       0.46      0.41      0.43      1745\n",
      "weighted avg       0.62      0.57      0.59      1745\n",
      " samples avg       0.73      0.63      0.64      1745\n",
      "\n"
     ]
    },
    {
     "name": "stderr",
     "output_type": "stream",
     "text": [
      "/opt/anaconda3/envs/yotam-inf/lib/python3.8/site-packages/sklearn/metrics/_classification.py:1248: UndefinedMetricWarning: Precision is ill-defined and being set to 0.0 in labels with no predicted samples. Use `zero_division` parameter to control this behavior.\n",
      "  _warn_prf(average, modifier, msg_start, len(result))\n"
     ]
    },
    {
     "data": {
      "application/vnd.jupyter.widget-view+json": {
       "model_id": "959cda1eccc645f384737ca42d8ebdce",
       "version_major": 2,
       "version_minor": 0
      },
      "text/plain": [
       "Running Epoch 5 of 6:   0%|          | 0/157 [00:00<?, ?it/s]"
      ]
     },
     "metadata": {},
     "output_type": "display_data"
    },
    {
     "data": {
      "application/vnd.jupyter.widget-view+json": {
       "model_id": "aadbf427693340cea414252b5e39cf06",
       "version_major": 2,
       "version_minor": 0
      },
      "text/plain": [
       "  0%|          | 0/883 [00:00<?, ?it/s]"
      ]
     },
     "metadata": {},
     "output_type": "display_data"
    },
    {
     "name": "stdout",
     "output_type": "stream",
     "text": [
      "              precision    recall  f1-score   support\n",
      "\n",
      "       anger       0.82      0.77      0.80       270\n",
      "anticipation       0.00      0.00      0.00        63\n",
      "     disgust       0.66      0.41      0.50       125\n",
      "        fear       0.00      0.00      0.00       110\n",
      "         joy       0.84      0.81      0.82       175\n",
      "        love       0.71      0.79      0.75       155\n",
      "    optimism       0.72      0.70      0.71       166\n",
      "   pessimism       0.00      0.00      0.00       156\n",
      "     sadness       0.75      0.74      0.74       254\n",
      "    surprise       0.00      0.00      0.00        10\n",
      "       trust       0.00      0.00      0.00        35\n",
      "     neutral       0.93      0.82      0.87       226\n",
      "\n",
      "   micro avg       0.79      0.58      0.67      1745\n",
      "   macro avg       0.45      0.42      0.43      1745\n",
      "weighted avg       0.62      0.58      0.60      1745\n",
      " samples avg       0.73      0.64      0.65      1745\n",
      "\n"
     ]
    },
    {
     "name": "stderr",
     "output_type": "stream",
     "text": [
      "/opt/anaconda3/envs/yotam-inf/lib/python3.8/site-packages/sklearn/metrics/_classification.py:1248: UndefinedMetricWarning: Precision is ill-defined and being set to 0.0 in labels with no predicted samples. Use `zero_division` parameter to control this behavior.\n",
      "  _warn_prf(average, modifier, msg_start, len(result))\n"
     ]
    },
    {
     "data": {
      "application/vnd.jupyter.widget-view+json": {
       "model_id": "e6ddba2d667e437da0bc5b6adccbe78a",
       "version_major": 2,
       "version_minor": 0
      },
      "text/plain": [
       "  0%|          | 0/883 [00:00<?, ?it/s]"
      ]
     },
     "metadata": {},
     "output_type": "display_data"
    },
    {
     "name": "stdout",
     "output_type": "stream",
     "text": [
      "              precision    recall  f1-score   support\n",
      "\n",
      "       anger       0.85      0.74      0.79       270\n",
      "anticipation       0.00      0.00      0.00        63\n",
      "     disgust       0.75      0.35      0.48       125\n",
      "        fear       0.00      0.00      0.00       110\n",
      "         joy       0.84      0.81      0.82       175\n",
      "        love       0.71      0.78      0.74       155\n",
      "    optimism       0.73      0.70      0.72       166\n",
      "   pessimism       0.00      0.00      0.00       156\n",
      "     sadness       0.75      0.73      0.74       254\n",
      "    surprise       0.00      0.00      0.00        10\n",
      "       trust       0.00      0.00      0.00        35\n",
      "     neutral       0.91      0.85      0.87       226\n",
      "\n",
      "   micro avg       0.80      0.57      0.67      1745\n",
      "   macro avg       0.46      0.41      0.43      1745\n",
      "weighted avg       0.63      0.57      0.59      1745\n",
      " samples avg       0.74      0.64      0.65      1745\n",
      "\n"
     ]
    },
    {
     "name": "stderr",
     "output_type": "stream",
     "text": [
      "/opt/anaconda3/envs/yotam-inf/lib/python3.8/site-packages/sklearn/metrics/_classification.py:1248: UndefinedMetricWarning: Precision is ill-defined and being set to 0.0 in labels with no predicted samples. Use `zero_division` parameter to control this behavior.\n",
      "  _warn_prf(average, modifier, msg_start, len(result))\n"
     ]
    },
    {
     "data": {
      "application/vnd.jupyter.widget-view+json": {
       "model_id": "a0128d5e1927408ba1190a770aa542d6",
       "version_major": 2,
       "version_minor": 0
      },
      "text/plain": [
       "  0%|          | 0/883 [00:00<?, ?it/s]"
      ]
     },
     "metadata": {},
     "output_type": "display_data"
    },
    {
     "name": "stdout",
     "output_type": "stream",
     "text": [
      "              precision    recall  f1-score   support\n",
      "\n",
      "       anger       0.85      0.74      0.79       270\n",
      "anticipation       0.00      0.00      0.00        63\n",
      "     disgust       0.75      0.35      0.48       125\n",
      "        fear       0.00      0.00      0.00       110\n",
      "         joy       0.84      0.81      0.82       175\n",
      "        love       0.71      0.78      0.74       155\n",
      "    optimism       0.73      0.70      0.72       166\n",
      "   pessimism       0.00      0.00      0.00       156\n",
      "     sadness       0.75      0.73      0.74       254\n",
      "    surprise       0.00      0.00      0.00        10\n",
      "       trust       0.00      0.00      0.00        35\n",
      "     neutral       0.91      0.85      0.87       226\n",
      "\n",
      "   micro avg       0.80      0.57      0.67      1745\n",
      "   macro avg       0.46      0.41      0.43      1745\n",
      "weighted avg       0.63      0.57      0.59      1745\n",
      " samples avg       0.74      0.64      0.65      1745\n",
      "\n"
     ]
    },
    {
     "name": "stderr",
     "output_type": "stream",
     "text": [
      "/opt/anaconda3/envs/yotam-inf/lib/python3.8/site-packages/sklearn/metrics/_classification.py:1248: UndefinedMetricWarning: Precision is ill-defined and being set to 0.0 in labels with no predicted samples. Use `zero_division` parameter to control this behavior.\n",
      "  _warn_prf(average, modifier, msg_start, len(result))\n"
     ]
    }
   ],
   "source": [
    "train_12_labels = pd.read_csv(\"datasets/train_12_labels.csv\")\n",
    "test_12_labels = pd.read_csv(\"datasets/test_12_labels.csv\")\n",
    "labels = ['anger', 'anticipation', 'disgust', 'fear', 'joy', 'love',\n",
    "          'optimism', 'pessimism', 'sadness', 'surprise', 'trust', 'neutral']\n",
    "\n",
    "model = EmotionMultilabelClassificationModel(name_or_path=\"UBC-NLP/MARBERT\",emotion_list=labels)\n",
    "model.train(train_12_labels,test_12_labels,num_epochs=6,TSDAE_pretrainig=False,save_model_dir=\"multilabel_12\")"
   ]
  },
  {
   "cell_type": "code",
   "execution_count": 6,
   "id": "9a954025-cb09-4b0c-af26-59462a1d3c10",
   "metadata": {},
   "outputs": [
    {
     "data": {
      "application/vnd.jupyter.widget-view+json": {
       "model_id": "83206000c00e4fe7b5caa4a36caf596f",
       "version_major": 2,
       "version_minor": 0
      },
      "text/plain": [
       "  0%|          | 0/883 [00:00<?, ?it/s]"
      ]
     },
     "metadata": {},
     "output_type": "display_data"
    },
    {
     "data": {
      "application/vnd.jupyter.widget-view+json": {
       "model_id": "4876774f9dfd4af6aa1c7e416dc8e2a5",
       "version_major": 2,
       "version_minor": 0
      },
      "text/plain": [
       "  0%|          | 0/7 [00:00<?, ?it/s]"
      ]
     },
     "metadata": {},
     "output_type": "display_data"
    },
    {
     "name": "stdout",
     "output_type": "stream",
     "text": [
      "              precision    recall  f1-score   support\n",
      "\n",
      "       anger       0.00      0.00      0.00       270\n",
      "anticipation       0.00      0.00      0.00        63\n",
      "     disgust       0.00      0.00      0.00       125\n",
      "        fear       0.00      0.00      0.00       110\n",
      "         joy       1.00      0.26      0.41       175\n",
      "        love       0.85      0.37      0.52       155\n",
      "    optimism       0.81      0.42      0.55       166\n",
      "   pessimism       0.00      0.00      0.00       156\n",
      "     sadness       0.00      0.00      0.00       254\n",
      "    surprise       0.00      0.00      0.00        10\n",
      "       trust       0.00      0.00      0.00        35\n",
      "     neutral       0.00      0.00      0.00       226\n",
      "\n",
      "   micro avg       0.87      0.10      0.18      1745\n",
      "   macro avg       0.22      0.09      0.12      1745\n",
      "weighted avg       0.25      0.10      0.14      1745\n",
      " samples avg       0.08      0.07      0.07      1745\n",
      "\n"
     ]
    }
   ],
   "source": [
    "model = EmotionMultilabelClassificationModel(name_or_path=\"multilabel_12/best_model_1012\",emotion_list=labels)\n",
    "eval_df = model.evaluate(test_12_labels,threshold=0.5)"
   ]
  },
  {
   "cell_type": "code",
   "execution_count": 7,
   "id": "b2c3063c-bb29-4bf2-8e27-c2bb8c7622ab",
   "metadata": {},
   "outputs": [
    {
     "data": {
      "application/vnd.jupyter.widget-view+json": {
       "model_id": "3c32a0a23b45409cb27620be5359dafa",
       "version_major": 2,
       "version_minor": 0
      },
      "text/plain": [
       "  0%|          | 0/883 [00:00<?, ?it/s]"
      ]
     },
     "metadata": {},
     "output_type": "display_data"
    },
    {
     "data": {
      "application/vnd.jupyter.widget-view+json": {
       "model_id": "a0dc96f3a98c47efb37bb3f632b033c9",
       "version_major": 2,
       "version_minor": 0
      },
      "text/plain": [
       "  0%|          | 0/7 [00:00<?, ?it/s]"
      ]
     },
     "metadata": {},
     "output_type": "display_data"
    },
    {
     "name": "stdout",
     "output_type": "stream",
     "text": [
      "              precision    recall  f1-score   support\n",
      "\n",
      "       anger       0.82      0.60      0.69       270\n",
      "anticipation       0.00      0.00      0.00        63\n",
      "     disgust       0.00      0.00      0.00       125\n",
      "        fear       0.00      0.00      0.00       110\n",
      "         joy       0.85      0.66      0.74       175\n",
      "        love       0.71      0.74      0.72       155\n",
      "    optimism       0.72      0.67      0.69       166\n",
      "   pessimism       0.00      0.00      0.00       156\n",
      "     sadness       0.80      0.02      0.03       254\n",
      "    surprise       0.00      0.00      0.00        10\n",
      "       trust       0.00      0.00      0.00        35\n",
      "     neutral       1.00      0.17      0.29       226\n",
      "\n",
      "   micro avg       0.79      0.31      0.45      1745\n",
      "   macro avg       0.41      0.24      0.26      1745\n",
      "weighted avg       0.59      0.31      0.35      1745\n",
      " samples avg       0.37      0.28      0.30      1745\n",
      "\n"
     ]
    }
   ],
   "source": [
    "eval_df = model.evaluate(test_12_labels,threshold=0.4)"
   ]
  },
  {
   "cell_type": "code",
   "execution_count": 8,
   "id": "4b2379ab-2171-4103-9cca-7d49e5fc9af8",
   "metadata": {},
   "outputs": [
    {
     "data": {
      "application/vnd.jupyter.widget-view+json": {
       "model_id": "b8681b802f9c428faa975151ca6f8c65",
       "version_major": 2,
       "version_minor": 0
      },
      "text/plain": [
       "  0%|          | 0/2 [00:00<?, ?it/s]"
      ]
     },
     "metadata": {},
     "output_type": "display_data"
    },
    {
     "data": {
      "application/vnd.jupyter.widget-view+json": {
       "model_id": "16dd748458d44bc0aa8cba3e246028e4",
       "version_major": 2,
       "version_minor": 0
      },
      "text/plain": [
       "  0%|          | 0/1 [00:00<?, ?it/s]"
      ]
     },
     "metadata": {},
     "output_type": "display_data"
    },
    {
     "data": {
      "text/html": [
       "<div>\n",
       "<style scoped>\n",
       "    .dataframe tbody tr th:only-of-type {\n",
       "        vertical-align: middle;\n",
       "    }\n",
       "\n",
       "    .dataframe tbody tr th {\n",
       "        vertical-align: top;\n",
       "    }\n",
       "\n",
       "    .dataframe thead th {\n",
       "        text-align: right;\n",
       "    }\n",
       "</style>\n",
       "<table border=\"1\" class=\"dataframe\">\n",
       "  <thead>\n",
       "    <tr style=\"text-align: right;\">\n",
       "      <th></th>\n",
       "      <th>anger</th>\n",
       "      <th>anticipation</th>\n",
       "      <th>disgust</th>\n",
       "      <th>fear</th>\n",
       "      <th>joy</th>\n",
       "      <th>love</th>\n",
       "      <th>optimism</th>\n",
       "      <th>pessimism</th>\n",
       "      <th>sadness</th>\n",
       "      <th>surprise</th>\n",
       "      <th>trust</th>\n",
       "      <th>neutral</th>\n",
       "      <th>pred_labels</th>\n",
       "      <th>clean_text</th>\n",
       "    </tr>\n",
       "  </thead>\n",
       "  <tbody>\n",
       "    <tr>\n",
       "      <th>0</th>\n",
       "      <td>0.439941</td>\n",
       "      <td>0.197876</td>\n",
       "      <td>0.260498</td>\n",
       "      <td>0.263428</td>\n",
       "      <td>0.192749</td>\n",
       "      <td>0.164429</td>\n",
       "      <td>0.167114</td>\n",
       "      <td>0.280762</td>\n",
       "      <td>0.349609</td>\n",
       "      <td>0.137573</td>\n",
       "      <td>0.128052</td>\n",
       "      <td>0.266113</td>\n",
       "      <td>anger</td>\n",
       "      <td>الناس ميتين جوع في ذمتكم الله لاسامحكم</td>\n",
       "    </tr>\n",
       "    <tr>\n",
       "      <th>1</th>\n",
       "      <td>0.236206</td>\n",
       "      <td>0.224854</td>\n",
       "      <td>0.199951</td>\n",
       "      <td>0.213867</td>\n",
       "      <td>0.457275</td>\n",
       "      <td>0.489746</td>\n",
       "      <td>0.490479</td>\n",
       "      <td>0.210938</td>\n",
       "      <td>0.319336</td>\n",
       "      <td>0.193970</td>\n",
       "      <td>0.184448</td>\n",
       "      <td>0.227417</td>\n",
       "      <td>joy, love, optimism</td>\n",
       "      <td>فوق ماهو # أمان يجمع كل شعور حلو</td>\n",
       "    </tr>\n",
       "  </tbody>\n",
       "</table>\n",
       "</div>"
      ],
      "text/plain": [
       "      anger  anticipation   disgust      fear       joy      love  optimism  \\\n",
       "0  0.439941      0.197876  0.260498  0.263428  0.192749  0.164429  0.167114   \n",
       "1  0.236206      0.224854  0.199951  0.213867  0.457275  0.489746  0.490479   \n",
       "\n",
       "   pessimism   sadness  surprise     trust   neutral          pred_labels  \\\n",
       "0   0.280762  0.349609  0.137573  0.128052  0.266113                anger   \n",
       "1   0.210938  0.319336  0.193970  0.184448  0.227417  joy, love, optimism   \n",
       "\n",
       "                               clean_text  \n",
       "0  الناس ميتين جوع في ذمتكم الله لاسامحكم  \n",
       "1        فوق ماهو # أمان يجمع كل شعور حلو  "
      ]
     },
     "execution_count": 8,
     "metadata": {},
     "output_type": "execute_result"
    }
   ],
   "source": [
    "tweets = ['الناس ميتين جوع في ذمتكم الله لاسامحكم',\n",
    "          'فوق ماهو #أمان يجمع كل شعور حلو']\n",
    "model.predict(tweets)"
   ]
  },
  {
   "cell_type": "code",
   "execution_count": null,
   "id": "0e32a9d1-4d4a-4f16-a2ce-42916dd3cc29",
   "metadata": {},
   "outputs": [],
   "source": []
  }
 ],
 "metadata": {
  "kernelspec": {
   "display_name": "Python 3",
   "language": "python",
   "name": "python3"
  },
  "language_info": {
   "codemirror_mode": {
    "name": "ipython",
    "version": 3
   },
   "file_extension": ".py",
   "mimetype": "text/x-python",
   "name": "python",
   "nbconvert_exporter": "python",
   "pygments_lexer": "ipython3",
   "version": "3.8.10"
  },
  "widgets": {
   "application/vnd.jupyter.widget-state+json": {
    "state": {},
    "version_major": 2,
    "version_minor": 0
   }
  }
 },
 "nbformat": 4,
 "nbformat_minor": 5
}
